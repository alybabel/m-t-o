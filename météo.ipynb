{
 "cells": [
  {
   "cell_type": "markdown",
   "id": "61a1a3ef-064a-4e01-9144-085074785d52",
   "metadata": {},
   "source": [
    "Projet de web scrapping M1 SDA (IIA) sur les données de la météo au sénégal ."
   ]
  },
  {
   "cell_type": "markdown",
   "id": "7ba933ec-4674-43ba-9b37-0a7d0ddf9dcf",
   "metadata": {},
   "source": [
    "Auteur : \n",
    "Ce projet a été réalisé par :\n",
    "Alioune WADE"
   ]
  },
  {
   "cell_type": "markdown",
   "id": "9241e4fb-5496-4e41-adaf-3516f9942595",
   "metadata": {},
   "source": [
    "Plan :\n",
    "\n",
    "      1. Introduction\n",
    "      \n",
    "          °  Contexte\n",
    "          °  Présentation du projet\n",
    "          °  Objectifs du projet\n",
    "\n",
    "      2. Métodologie du web scraping\n",
    "      \n",
    "          °  Bibliothèques utilisées \n",
    "          °  Etapes du web scraping\n",
    "\n",
    "      3. Structure du site web\n",
    "\n",
    "          . Analyse de la structure HTML du site\n",
    "          . Identification des données à extraire\n",
    "          . Techniques utilisés pour naviguer à travers les pages du site\n",
    "\n",
    "      4. Collecte des données\n",
    "\n",
    "          °  Sources des données\n",
    "          °  Définition du web scraping\n",
    "          °  Limitation\n",
    "          °  Légalité\n",
    "\n",
    "     5.  Nettoyage et transformation des données\n",
    "          °  Extraction des données brutes\n",
    "          °  Nettoyage des dnnées \n",
    "          °  Transformation des données en un format utilisable (csv)\n",
    "\n",
    "     6.  Etudes faites dans le  domaine de la météo\n",
    "          °°°° Analyse des tendances temporelles \n",
    "          °°°  Température\n",
    "          °°°  Précipitations\n",
    "\n",
    "     7.  Conclusion\n",
    "        ° Résumé des principaus objectifs pour la réalisation du projet\n",
    "        ° Limitation et défis rencontrés\n",
    "        ° Perspectives d'amélioration ou d'extension du projet à l'avenir \n",
    "\n",
    "    8.  Références\n",
    "        ° Liste des ressources utilisées pour le développement du projet\n",
    "        ° Références aux outils , bibliothèques utilisées et documentations consultées "
   ]
  },
  {
   "cell_type": "markdown",
   "id": "d611a50e-b657-4d48-b2b2-9f3c546f8a4f",
   "metadata": {},
   "source": [
    "•\tIntroduction\n",
    "\n",
    "    Au Sénégal , le site de la météo reste le plus populaire pour la consultation de la pluviométrie . C'est qui fait sa particularité dans ce domaine c'est qu'il nous fournit d'importantes informations bien sur la pluviométrie que sur la température . \n",
    "\n",
    "    Contexte\n",
    "    \n",
    "    La météo est principalement le site le plus populaire dans son domaine . Elle fournit d'informations authentiques  sur les changements climatiques ainsi que sur la pluviométrie . Ce qui permet de savoir réellement le possibilité de pluie et le changement temporel. Elle permet aussi de d'aider bon nombre de gens , qui dépendent des modifications climaTiques , à prendre des décisions sérieuses avant embarquement . C'est le cas des pecheurs par exemple.\n",
    "\n",
    "    Présentation du projet\n",
    "    \n",
    "    C'est dans ce sens que j'ai essayé de réaliser ce projet afin de scraper les données liées à la température et aux nombres de millimètres de précipitations des jours à venir afin de voir , après visualisation les jours où la temperature serait grande et les jours où on aura de forts millimimètrs de précipitation . \n",
    "\n",
    "    Objectifs du projet\n",
    "    \n",
    "    Les principaux objectifs de ce projet sont les suivants :\n",
    "\n",
    "    • Collecter des données météorologiques depuis le site de la météo\n",
    "    • Analyser les tendances temporelles\n",
    "    • Analyser les précipitations de la quinzaine \n",
    "    • Dire la possibilité de pluie éparse.\n",
    "\n",
    "•\tMéthodologie du web scraping\n",
    "\n",
    "    Bibliothèques utilisées :\n",
    "    \n",
    "-\tBeautifulSoup : utilisé pour parcourir et stocké des données à partir du ode HTML des pages web .\n",
    "\n",
    "-\tCSV : est utilisée pour travailler avec des fichiers CSV (Comma-Separated Values), un format couramment utilisé pour stocker des données tabulaires.\n",
    "\n",
    "-\tMatplotlib : utilisé  en Python pour la création de graphiques et de visualisations de données.\n",
    "\n",
    "-\tPandas : utilisé dans le domaine de l'analyse de données et de la science des données en raison de ses nombreuses fonctionnalités et de sa facilité d'utilisation.\n",
    "-\t\n",
    "    Etapes du web scraping\n",
    "    \n",
    "    •\tIdentification des sources de données\n",
    "\n",
    "    •\tChoix des outils de scraping\n",
    "\n",
    "    •\tAnalyse de la structure du sit web\n",
    "\n",
    "    •\tDéveloppement du script de sraping\n",
    "\n",
    "    •\tGestion des limitations et du respect ds règles\n",
    "\n",
    "    •\tNettoyage et traitement des données\n",
    "\n",
    "    •\tStockag des données\n",
    "\n",
    "    •\tMaintenance et surveillance\n",
    "\n",
    "    •\tTraitement\n",
    "\n",
    "•\tStructure du site web\n",
    "\n",
    "    \tAnalyse de la structure HTML du site :\n",
    "\n",
    "         Ici il faut connaitre d'abord la structure d’un document HTML . Ce qui nécessite une bonne connaissance en HTML . \n",
    "         Ensuite  on essaie de localiser les données qu'on a besoin .  \n",
    "         C'est à dire voir les données utiles sont situées dans quelle balise .      \n",
    "    \n",
    "    \tIdentification des données à extraire :\n",
    "\n",
    "          Essayer de se situer dans le ficher Html extrait et de voir dans quelle balise les données utiles pour notre scrapingt . \n",
    "\n",
    "    \tTechniques utilisés pour naviguer dans la page web\n",
    "\n",
    "\n",
    "    Aprés import de la bibliothque BeautifulSoup , on a utilisé un objet soup de cette bibliothèque  pour pouvoir naviguer dans les différentes balises  la page web afin de pouvoir recupérer les données intéressantes .\n",
    "\n",
    "•\tCollecte des données\n",
    "\n",
    "    Sources des données :\n",
    "\n",
    "       Le site web à partir duquel où on a extrait les données est : https://www.meteoart.com/africa/senegal?paAuguster\n",
    "\n",
    "    Définition du web scraping\n",
    "\n",
    "        Le web scraping (ou extraction de données web) est une technique automatisée utilisée pour extraire des informations et des données structurées à partir de sites web. Cela implique l'analyse du contenu HTML d'une page web et l'extraction des données nécessaires dans un format utilisable pour d'autress . application\n",
    "\n",
    "  \n",
    "      \n",
    "          Limitation\n",
    "\n",
    "        La collecte de données par web scraping présente plusieurs limitations et défis, notamment d'ordre technique, éthique et légal. Voici les principales limitations auxquelles les utilisateurs de web scraping  peuvent être confrontés :\n",
    "\n",
    "            1.Structure des sites web:\n",
    "\n",
    "                - Changements fréquents: Les sites web changent souvent leur structure HTML, leur CSS et leurs méthodes de rendu, ce qui peut rendre les scripts de web scraping obsolètes. Des mises à jour régulières des scripts sont souvent nécessaires pour maintenir la collecte données efficace\n",
    "\n",
    "            2. Limites techniques :\n",
    "\n",
    "                - Bande passante et vitesse: Les limitations de vitesse et de bande passante peuvent affecter la vitesse à laquelle les données peuvent être extraites, surtout si le site web a des mesures de sécuit ou des limites de trafic.\n",
    "\n",
    "                - Anti-scraping: Certains sites web peuvent détecter le web scraping et bloquer les adresses IP ou mettre en place des mesures pour ralentir ou empêcher la collecte de données .\n",
    "   - \n",
    "            3. Aspect et éthique :\n",
    "\n",
    "               - Droits d'auteur et conditions d'utilisation : Beaucoup de sites web spécifient dans leurs conditions d'utilisation que le scraping de leurs données est interdit. Ignorer ces conditions peut elèmîner des problèmes juridiques.\n",
    "   \n",
    "               - Respect de la vie privée : Le web scraping peut collecter des informations personnelles sans le consentement des utilisateurs, ce qui soulève des préoccupations éthiques et des questions de conformité avec les réglementations sur la protection des données comme en Europe .   \n",
    " \n",
    "            4. Fiabilité des données:\n",
    "\n",
    "\n",
    "              - Données incomplètes ou incorrectes : En fonction de la qualité de la mise en forme du site web et des erreurs possibles dans les scripts de scraping, les données collectées peuvent être incomplètes ou incorrectes, nécessitant un processus de nettoya et de valiis5\n",
    "   \n",
    "            - Dépendance vis-à-vis des tiers:\n",
    "\n",
    "                \n",
    "            - Changements dans les APIs : Si les sites web fournissent une API pour accéder à leurs données, utiliser cette API peut être plus fiable et plus légal que le web scraping direct. Cependant, les changements dans les APIs peuvent aussi poser des problèmes si les fonctionnalités nécessaires sont modifiées ou retirées.\n",
    "\n",
    "\n",
    "En résumé, bien que le web scraping soit une technique puissante pour collecter des données à grande échelle, il est important de prendre en compte ces limitations et de les gérer de manière appropriée pour éviter des  \n",
    "\n",
    "\n",
    "        Légalité\n",
    "\n",
    "        Le scraping doit etre effectué de manière éthique et légale . Vous devez toujours consulter les politiques d’utilisation du site web que vous scrapez . Certains sites peuvent interdire le scraping ou restreindre son utilisation .\n",
    "\n",
    "•\tNettoyage et transformation des données\n",
    "\n",
    "        o\tExtraction des données brutes\n",
    "\n",
    "        Pour extraire des  la donnés dans la page de la météo , on a créé un objet soup appartenant au module BeautifulSoup . Cet objet nous permettra de naviguer dans les diffférentes balises de la page et d’en extraire toutes les données dont nous avons besoin . \n",
    "\n",
    "\n",
    "        o\tNettoyage des données\n",
    "\n",
    "        Afin d’avoir un bon aperçu sur les données déjà scrapées , j’ai nettoyé les données en supprimant les doublons et en remplaçant les valeurs maquantes si nécessaires  . \n",
    "\n",
    "        o\tTransformation des données en un format utilisable\n",
    "\n",
    "        Après scraping , on a  créé un fichier et on a  stocké les données dans un fichier csv . Ce qui me permettra de faire facilement des analyses ultérieurement .\n",
    "\n",
    "•\tEtudes faites dans le domaine de la météo\n",
    "\n",
    "        o   Analyse des tendances temporelles \n",
    "        L'analyse temporelle de la météo implique l'étude des variations des conditions météorologiques sur \n",
    "        différentes périodes . \n",
    "        D'aprés les différentes données extraites et mises dans notre fichier csv , on peut comprendre que la température varie légèrement entre 26 et 28 degré celcuis . \n",
    "        \n",
    "\n",
    "        o\tTempérature :\n",
    "\n",
    "        D'après les données extraites , on voit que la temperature varie légèarement durant toute la quinzaine .\n",
    "        Elle varie de 26 à 27 degrés celcius . \n",
    "        La température n'impactera pas aussi la possibilité d'avoir des pluies .\n",
    "        Dans les données qu'on a pues extraire , on voit que y'a des jours où la température est extremement élevé \n",
    "        et on a assisté à des pluie . \n",
    "\n",
    "\n",
    "  \n",
    "\n",
    "        o\tPrécipitations :\n",
    "\n",
    "        D'aprés les données extraites , on voit qu'il y'a un certain nombre de millimèttres de précipitations dans cette semaine du 5 Aoùt avec aussi une légère variation de la température . Le ciel est parfois nuageux et il y'a possibilité de pluie éparse .\n",
    "        L'élevation de la température n'impactera en aucun les risque de pluie .\n",
    "        A noter que dans cette semaine , on aura de grands millimètres de précipitations . \n",
    "        Ce qui signifie qu'il y'aura beaucoup de pluie .\n",
    "\n",
    "\n",
    " Références :\n",
    "\n",
    "\n",
    "        Liste des sources utilisées:\n",
    "\n",
    "        \"https://www.meteoart.com/africa/senegal?page=month&month=August\" \n",
    "\n",
    "\n",
    "        °°°°Références , Bibliothèques , documentations°°°\n",
    "\n",
    "        Request \n",
    "\n",
    "        Matplotlib\n",
    "\n",
    "        BeautifoulSoup\n",
    "\n",
    "        Pandas\n",
    "\n"
   ]
  },
  {
   "cell_type": "markdown",
   "id": "ddf7c36a-8e8c-4c8b-9a88-a4509a16228c",
   "metadata": {},
   "source": [
    "Importation de l'ensemble des bibliothèques dont nous avons besoin . "
   ]
  },
  {
   "cell_type": "code",
   "execution_count": 1,
   "id": "7a4f18f1-5f7f-40ca-9198-357fddfe9ca3",
   "metadata": {},
   "outputs": [],
   "source": [
    "import requests\n",
    "from bs4 import BeautifulSoup\n",
    "import csv\n",
    "import pandas as pd\n",
    "import numpy as np\n",
    "import matplotlib.pyplot as plt\n",
    "import seaborn as sns"
   ]
  },
  {
   "cell_type": "markdown",
   "id": "c2225fe6-bdae-4f2a-8939-546812f19998",
   "metadata": {},
   "source": [
    "Ici on va sccraper les données météorologiques du site de la météo pour les jours à venir . L'url de cette page est mis dans la variable \"url\" . On utilise la bibliothèque Requests pour avoir accés à la page , aprés on utilisera la fonction get de requests pour récupérer les données référençant cet url .\n",
    "Aprés on affiche le contenu de la page .\n",
    "Aprés , on regarde le status pour s'assurer que notre requete passe merveilleusement ."
   ]
  },
  {
   "cell_type": "code",
   "execution_count": 2,
   "id": "cdc34015-f17d-4d9b-b86f-96875ddd12e9",
   "metadata": {},
   "outputs": [
    {
     "name": "stdout",
     "output_type": "stream",
     "text": [
      "b'<!DOCTYPE html><html lang=\"fr\" prefix=\"og: http://ogp.me/ns#\"><head> <title>M\\xc3\\xa9t\\xc3\\xa9o S\\xc3\\xa9n\\xc3\\xa9gal en ao\\xc3\\xbbt 2024 | 14 Jours | MeteoArt.com</title> <meta name=\"description\" content=\"Pr\\xc3\\xa9visions m\\xc3\\xa9t\\xc3\\xa9o pr\\xc3\\xa9cises pour S\\xc3\\xa9n\\xc3\\xa9gal en ao\\xc3\\xbbt 2024. Retrouvez \\xc3\\xa0 tout moment les informations n\\xc3\\xa9cessaires pour la m\\xc3\\xa9t\\xc3\\xa9o au S\\xc3\\xa9n\\xc3\\xa9gal en ao\\xc3\\xbbt et plus encore.\" /> <meta name=\"keywords\" content=\"S\\xc3\\xa9n\\xc3\\xa9gal en ao\\xc3\\xbbt,M\\xc3\\xa9t\\xc3\\xa9o S\\xc3\\xa9n\\xc3\\xa9gal en ao\\xc3\\xbbt,S\\xc3\\xa9n\\xc3\\xa9gal en ao\\xc3\\xbbt 2024,temp\\xc3\\xa9ratures au S\\xc3\\xa9n\\xc3\\xa9gal en ao\\xc3\\xbbt\" /> <meta charset=\"UTF-8\" /> <link rel=\"canonical\" href=\"https://www.meteoart.com/africa/senegal?page=month&month=August\" /> <link rel=\"amphtml\" href=\"https://www.meteoart.com/amp/africa/senegal?page=month&month=August\"> <meta name=\"viewport\" content=\"width=device-width, initial-scale=1\" /> <link rel=\"preload\" as=\"image\" href=\"https://www.meteoart.com/images/meteoart-white.svg\"> <link rel=\"preload\" as=\"image\" href=\"https://res.meteoart.com/images/backgrounds/header.svg\"> <link rel=\"stylesheet\" href=\"https://www.meteoart.com/style/index853.min.css\" /> <meta name=\"theme-color\" content=\"#c0d5f7\"> <link rel=\"icon\" href=\"https://www.meteoart.com/favicon.ico?v=1\" /> <link rel=\"apple-touch-icon\" sizes=\"180x180\" href=\"https://www.meteoart.com/style/favicon/apple-touch-icon.png\"> <link rel=\"icon\" type=\"image/png\" sizes=\"32x32\" href=\"https://www.meteoart.com/style/favicon/favicon-32x32.png\"> <link rel=\"icon\" type=\"image/png\" sizes=\"16x16\" href=\"https://www.meteoart.com/style/favicon/favicon-16x16.png\"> <link rel=\"manifest\" href=\"https://www.meteoart.com/style/favicon/site.webmanifest\"> <link rel=\"mask-icon\" href=\"https://www.meteoart.com/style/favicon/safari-pinned-tab.svg\" color=\"#5bbad5\"> <meta name=\"msapplication-TileColor\" content=\"#da532c\"> <meta name=\"msapplication-config\" content=\"https://www.meteoart.com/style/favicon/browserconfig.xml\"> <meta name=\"theme-color\" content=\"#ffffff\"> <meta property=\"og:title\" content=\"M\\xc3\\xa9t\\xc3\\xa9o S\\xc3\\xa9n\\xc3\\xa9gal en ao\\xc3\\xbbt 2024 | 14 Jours | MeteoArt.com\" /> <meta property=\"og:description\" content=\"Pr\\xc3\\xa9visions m\\xc3\\xa9t\\xc3\\xa9o pr\\xc3\\xa9cises pour S\\xc3\\xa9n\\xc3\\xa9gal en ao\\xc3\\xbbt 2024. Retrouvez \\xc3\\xa0 tout moment les informations n\\xc3\\xa9cessaires pour la m\\xc3\\xa9t\\xc3\\xa9o au S\\xc3\\xa9n\\xc3\\xa9gal en ao\\xc3\\xbbt et plus encore.\" /> <meta property=\"og:url\" content=\"https://www.meteoart.com/africa/senegal?page=month&month=August\" /> <meta property=\"og:image\" content=\"https://www.meteoart.com/style/favicon/android-chrome-512x512.png\" /> <meta property=\"og:image:width\" content=\"512\" /> <meta property=\"og:image:height\" content=\"512\" /> <meta property=\"og:site_name\" content=\"MeteoArt.com\"> <meta property=\"og:type\" content=\"website\"> <script> var hash = window.location.hash.substr(1); if (hash) { var hashObject = hash.split(\\'&\\').reduce(function (result, item) { var parts = item.split(\\'=\\'); result[parts[0]] = parts[1]; return result; }, {}); if (localStorage.getItem(\"c\") === null && hashObject.c) { localStorage.setItem(\\'c\\', hashObject.c); } } var globalC = localStorage.getItem(\"c\"); </script> <script async src=\"https://www.googletagmanager.com/gtag/js?id=UA-149670415-1\"></script> <script> window.dataLayer = window.dataLayer || []; function gtag(){dataLayer.push(arguments);} gtag(\\'js\\', new Date()); gtag(\\'config\\', \\'UA-149670415-1\\'); </script><script data-ad-client=\"ca-pub-0206751604021858\" async src=\"https://pagead2.googlesyndication.com/pagead/js/adsbygoogle.js?client=ca-pub-0206751604021858\" crossorigin=\"anonymous\"></script></head><body class=\"body_wrap month_page current_month country_level Desktop_device\"><div id=\"blanket\" class=\"blanket\"></div><header class=\"header-wrap\"> <div class=\"navbar-wrap\"> <div class=\"inner-navbar\"> <a href=\"https://www.meteoart.com\" title=\"MeteoArt.com\" class=\"logo_a\"> <img src=\"https://www.meteoart.com/images/meteoart-white.svg\" width=\"180\" height=\"23\" alt=\"MeteoArt.com\" title=\"MeteoArt.com\" class=\"logo\" /> </a> <div class=\"navbar-links-wrap\"> <a href=\"https://www.meteoart.com/europe/france\" onClick=\"gtag(\\'event\\', \\'top website links\\', {\\'event_category\\' : \\'top website links\\', \\'event_label\\' : \\'France\\'})\" class=\"navbar_link\" aria-label=\"France\" title=\"M\\xc3\\xa9t\\xc3\\xa9o en France\">France</a><a href=\"https://www.meteoart.com/europe/switzerland\" onClick=\"gtag(\\'event\\', \\'top website links\\', {\\'event_category\\' : \\'top website links\\', \\'event_label\\' : \\'Switzerland\\'})\" class=\"navbar_link\" aria-label=\"Suisse\" title=\"M\\xc3\\xa9t\\xc3\\xa9o en Suisse\">Suisse</a><a href=\"https://www.meteoart.com/europe/belgium\" onClick=\"gtag(\\'event\\', \\'top website links\\', {\\'event_category\\' : \\'top website links\\', \\'event_label\\' : \\'Belgium\\'})\" class=\"navbar_link\" aria-label=\"Belgique\" title=\"M\\xc3\\xa9t\\xc3\\xa9o en Belgique\">Belgique</a><a href=\"https://www.meteoart.com/europe\" onClick=\"gtag(\\'event\\', \\'top website links\\', {\\'event_category\\' : \\'top website links\\', \\'event_label\\' : \\'Europe\\'})\" class=\"navbar_link\" aria-label=\"Europe\" title=\"M\\xc3\\xa9t\\xc3\\xa9o en Europe\">Europe</a> </div> <div class=\"temp-changer-and-search\"> <div class=\"unit-changer\"> <span class=\"temp-unit\" data-type=\"f\">\\xc2\\xb0F</span> <label class=\"switch\" for=\"temp-changer\" aria-label=\"Units\"> <input id=\"temp-changer\" type=\"checkbox\" checked> <span class=\"slider round\"></span> </label> <span class=\"temp-unit\" data-type=\"c\">\\xc2\\xb0C</span> </div> <div class=\"desktop-navbar-search\"> <input id=\"city_search\" placeholder=\"Rechercher une ville\" /> <label for=\"city_search\" aria-label=\"search\" class=\"search_button_next_to_dropdown\"> <img src=\"https://res.meteoart.com/images/icons/search_white_new.svg\" alt=\"Rechercher\" title=\"Rechercher\" width=\"17\" height=\"17\"> </label> </div> </div> </div> </div> <div class=\"dummy-navbar\"></div> <div class=\"header-center-wrap\"> <div class=\"page-header\"> S\\xc3\\xa9n\\xc3\\xa9gal <img src=\"https://res.meteoart.com/images/r-flags/senegal.svg\" alt=\"M\\xc3\\xa9t\\xc3\\xa9o en S\\xc3\\xa9n\\xc3\\xa9gal\" title=\"M\\xc3\\xa9t\\xc3\\xa9o en S\\xc3\\xa9n\\xc3\\xa9gal\" width=\"40\" height=\"40\" /> </div> <div class=\"page-sub-header\">M\\xc3\\xa9t\\xc3\\xa9o ao\\xc3\\xbbt 2024 </div> <nav> <ul class=\"menu_wrap\"> <li id=\"nav-dashboard\"> <a href=\"https://www.meteoart.com/africa/senegal\" onClick=\"gtag(\\'event\\',\\'header navbar menu\\' , {\\'event_category\\' : \\'header navbar menu\\',\\'event_action\\' : \\'click on nav-dashboard\\', \\'event_label\\' : \\'S\\xc3\\xa9n\\xc3\\xa9gal\\'})\"> Aper\\xc3\\xa7u </a> </li><li id=\"nav-fourteen\"> <a href=\"https://www.meteoart.com/africa/senegal?page=14\" onClick=\"gtag(\\'event\\',\\'header navbar menu\\' , {\\'event_category\\' : \\'header navbar menu\\',\\'event_action\\' : \\'click on nav-fourteen\\', \\'event_label\\' : \\'S\\xc3\\xa9n\\xc3\\xa9gal\\'})\"> 14 Jours </a> </li><li id=\"nav-this-month\" class=\"active\"> <a href=\"https://www.meteoart.com/africa/senegal?page=month&month=August\" onClick=\"gtag(\\'event\\',\\'header navbar menu\\' , {\\'event_category\\' : \\'header navbar menu\\',\\'event_action\\' : \\'click on nav-this-month\\', \\'event_label\\' : \\'S\\xc3\\xa9n\\xc3\\xa9gal\\'})\"> Ao\\xc3\\xbbt </a> </li><li id=\"nav-next-month\"> <a href=\"https://www.meteoart.com/africa/senegal?page=month&month=September\" onClick=\"gtag(\\'event\\',\\'header navbar menu\\' , {\\'event_category\\' : \\'header navbar menu\\',\\'event_action\\' : \\'click on nav-next-month\\', \\'event_label\\' : \\'S\\xc3\\xa9n\\xc3\\xa9gal\\'})\"> Septembre </a> </li><li id=\"nav-long\"> <a href=\"https://www.meteoart.com/africa/senegal?page=long-range\" onClick=\"gtag(\\'event\\',\\'header navbar menu\\' , {\\'event_category\\' : \\'header navbar menu\\',\\'event_action\\' : \\'click on nav-long\\', \\'event_label\\' : \\'S\\xc3\\xa9n\\xc3\\xa9gal\\'})\"> Long Terme </a> </li><li id=\"nav-today\"> <a href=\"https://www.meteoart.com/africa/senegal?page=today\" onClick=\"gtag(\\'event\\',\\'header navbar menu\\' , {\\'event_category\\' : \\'header navbar menu\\',\\'event_action\\' : \\'click on nav-today\\', \\'event_label\\' : \\'S\\xc3\\xa9n\\xc3\\xa9gal\\'})\"> Aujourd\\'hui </a> </li><li id=\"nav-tomorrow\"> <a href=\"https://www.meteoart.com/africa/senegal?page=tomorrow\" onClick=\"gtag(\\'event\\',\\'header navbar menu\\' , {\\'event_category\\' : \\'header navbar menu\\',\\'event_action\\' : \\'click on nav-tomorrow\\', \\'event_label\\' : \\'S\\xc3\\xa9n\\xc3\\xa9gal\\'})\"> Demain </a> </li> </ul></nav> </div></header><div class=\"header-bottom-image\"></div><div class=\"billboard_ad_wrap\" id=\"billboard\"> <ins class=\"adsbygoogle\" style=\"display:inline-block;width:970px;height:250px\" data-ad-client=\"ca-pub-0206751604021858\" data-ad-slot=\"8890712227\"></ins> <script> (adsbygoogle = window.adsbygoogle || []).push({}); </script></div><div class=\"breadcrumbs_wrap\"> <div class=\"breadcrumbs_inner_wrap\"> <div class=\"share-line\"> <div class=\"share-item\"> <img class=\"selection-star remove-star\" width=\"26\" height=\"26\" src=\"https://res.meteoart.com/images/icons/filled-star.svg\" alt=\"Supprimer des lieux favoris\" title=\"Supprimer des lieux favoris\" /> <img class=\"selection-star add-star\" src=\"https://res.meteoart.com/images/icons/empty-star.svg\" width=\"26\" height=\"26\" alt=\"Ajouter aux lieux favoris\" title=\"Ajouter aux lieux favoris\" /></div> <div class=\"share-icon share-item\"> <img src=\"https://res.meteoart.com/images/icons/share.svg\" width=\"32\" height=\"32\" alt=\"Share\" title=\"Share\" /> </div> </div> </div> <ol class=\"breadcrumbs_inner_wrap\" itemscope itemtype=\"http://schema.org/BreadcrumbList\"> <li class=\"breadcrumb_elm home_bred\" itemprop=\"itemListElement\" itemscope itemtype=\"https://schema.org/ListItem\"> <a itemprop=\"item\" href=\"https://www.meteoart.com\"> <span itemprop=\"name\">Accueil</span><meta itemprop=\"position\" content=\"1\" /> </a> </li><li class=\"breadcrumb_elm con_bred\" itemprop=\"itemListElement\" itemscope itemtype=\"https://schema.org/ListItem\"> <div class=\"bred_arrow\"></div> <a href=\"https://www.meteoart.com/africa\" itemprop=\"item\"><span itemprop=\"name\">Afrique</span><meta itemprop=\"position\" content=\"2\" /> </a> </li><li class=\"breadcrumb_elm country_bred\" itemprop=\"itemListElement\" itemscope itemtype=\"https://schema.org/ListItem\"> <div class=\"bred_arrow\"></div> <a href=\"https://www.meteoart.com/africa/senegal\" itemprop=\"item\"> <span class=\"bread-flag-wrap\"><img src=\"https://res.meteoart.com/images/r-flags/senegal.svg\" alt=\"M\\xc3\\xa9t\\xc3\\xa9o en S\\xc3\\xa9n\\xc3\\xa9gal\" title=\"M\\xc3\\xa9t\\xc3\\xa9o en S\\xc3\\xa9n\\xc3\\xa9gal\" width=\"18\" height=\"18\" /></span><span itemprop=\"name\">S\\xc3\\xa9n\\xc3\\xa9gal</span><meta itemprop=\"position\" content=\"3\" /> </a> </li><li class=\"breadcrumb_elm\" itemprop=\"itemListElement\" itemscope itemtype=\"https://schema.org/ListItem\"> <div class=\"bred_arrow\"></div> <a href=\"/africa/senegal?page=month&month=August\" itemprop=\"item\"><span itemprop=\"name\" id=\"page-bread\">Ao\\xc3\\xbbt</span><meta itemprop=\"position\" content=\"4\" /> </a></li> </ol> <div class=\"snackbar-wrap\"> <div class=\"snackbar snackbar-added\">L\\'emplacement a \\xc3\\xa9t\\xc3\\xa9 ajout\\xc3\\xa9 \\xc3\\xa0 <a href=\"/my-locations\">Mes emplacements</a></div> <div class=\"snackbar snackbar-removed\">L\\'emplacement a \\xc3\\xa9t\\xc3\\xa9 supprim\\xc3\\xa9 <a href=\"/my-locations\">Mes emplacements</a></div> </div> </div><div class=\"month_page\"> <div class=\"next_prev_section section-wrap\"> <a href=\"https://www.meteoart.com/africa/senegal?page=month&month=July\" onclick=\"gtag(\\'event\\', \\'click on old prev month\\', {\\'event_category\\' : \\'click on old prev month\\',\\'event_action\\' : \\'click on old prev month\\', \\'event_label\\' : \\'\\'})\"> <button class=\"button_two prev_button general_button button-with-prev-arrow\">Juillet</button> </a><div class=\"select-wrap\"> <select class=\"primary-select cities-dropdown\" aria-label=\"Rechercher\"><option value=\"https://www.meteoart.com/africa/senegal\" data-city-db=\"Dakar\" data-link=\"https://www.meteoart.com/africa/senegal\" selected>Dakar</option><option value=\"https://www.meteoart.com/africa/senegal/thies/nianing?page=month&month=August\" data-city-db=\"Nianing\" data-link=\"https://www.meteoart.com/africa/senegal/thies/nianing?page=month&month=August\">Nianing</option></select> </div> <a href=\"https://www.meteoart.com/africa/senegal?page=month&month=September\" onclick=\"gtag(\\'event\\', \\'click on old next month\\', {\\'event_category\\' : \\'click on old next month\\',\\'event_action\\' : \\'click on old next month\\', \\'event_label\\' : \\'\\'})\"> <button class=\"button_two next_button general_button button-with-arrow\">Septembre</button> </a> </div><div class=\"section-wrap\"> <h1 class=\"section-header\">M\\xc3\\xa9t\\xc3\\xa9o au S\\xc3\\xa9n\\xc3\\xa9gal en ao\\xc3\\xbbt 2024</h1> <div class=\"click_on\"> Cliquez sur une journ\\xc3\\xa9e pour plus de d\\xc3\\xa9tails</div><div class=\"gallery_wrap\" data-count=\"0\"> <div class=\"gallery_control gallery_prev disable\"> <button disabled=\"disabled\" aria-label=\"Pr\\xc3\\xa9c\\xc3\\xa9dente\"> <span class=\"gallery-arrow\"></span> </button> </div> <div class=\"outer_wrap\"> <div class=\"inner_wrap\"> <a onClick=\"gtag(\\'event\\', \\'Click on 14 day gallery\\', {\\'event_category\\' :\\'Click on 14 day gallery\\', \\'event_action\\' :\\'0\\'})\" href=\"https://www.meteoart.com/africa/senegal?page=today\" class=\"day-link-from-14-gallery\"> <div class=\"weather_day_box \" data-date=\"2024-08-06\"> <div class=\"weather_day_date\">mardi</div> <div class=\"weather_date_month\">6 ao\\xc3\\xbbt</div> <div class=\"weather_day_img\"><img width=\"50\" height=\"50\" alt=\"Risques de pluie \\xc3\\xa9parse\" title=\"Risques de pluie \\xc3\\xa9parse\" class=\"lazy \" data-src=\"https://res.meteoart.com/images/weather_icons/new/day/rain-interval-2.svg\" /></div> <div class=\"weather_day_mm\"><span data-length=\"1.25\">1,3</span> <span class=\"length_unit\">mm</span></div> <div class=\"fourteen_day_wrap\"> <span class=\"fourteen-max\"><span data-temp=\"28\">28</span><span class=\"degree_sign\">\\xc2\\xb0</span></span> <span class=\"fourteen-separator\">/</span> <span class=\"fourteen-min\"><span data-temp=\"27\">27</span><span class=\"degree_sign\">\\xc2\\xb0</span></span> </div> </div> </a><a onClick=\"gtag(\\'event\\', \\'Click on 14 day gallery\\', {\\'event_category\\' :\\'Click on 14 day gallery\\', \\'event_action\\' :\\'1\\'})\" href=\"https://www.meteoart.com/africa/senegal?page=tomorrow\" class=\"day-link-from-14-gallery\"> <div class=\"weather_day_box \" data-date=\"2024-08-07\"> <div class=\"weather_day_date\">mercredi</div> <div class=\"weather_date_month\">7 ao\\xc3\\xbbt</div> <div class=\"weather_day_img\"><img width=\"50\" height=\"50\" alt=\"Averse de pluie l\\xc3\\xa9g\\xc3\\xa8re\" title=\"Averse de pluie l\\xc3\\xa9g\\xc3\\xa8re\" class=\"lazy \" data-src=\"https://res.meteoart.com/images/weather_icons/new/day/rain-2.svg\" /></div> <div class=\"weather_day_mm\"><span data-length=\"3.75\">3,8</span> <span class=\"length_unit\">mm</span></div> <div class=\"fourteen_day_wrap\"> <span class=\"fourteen-max\"><span data-temp=\"27\">27</span><span class=\"degree_sign\">\\xc2\\xb0</span></span> <span class=\"fourteen-separator\">/</span> <span class=\"fourteen-min\"><span data-temp=\"26\">26</span><span class=\"degree_sign\">\\xc2\\xb0</span></span> </div> </div> </a><a onClick=\"gtag(\\'event\\', \\'Click on 14 day gallery\\', {\\'event_category\\' :\\'Click on 14 day gallery\\', \\'event_action\\' :\\'2\\'})\" href=\"https://www.meteoart.com/africa/senegal?page=day#date=2024-08-08\" class=\"day-link-from-14-gallery\"> <div class=\"weather_day_box \" data-date=\"2024-08-08\"> <div class=\"weather_day_date\">jeudi</div> <div class=\"weather_date_month\">8 ao\\xc3\\xbbt</div> <div class=\"weather_day_img\"><img width=\"50\" height=\"50\" alt=\"Averse de pluie l\\xc3\\xa9g\\xc3\\xa8re\" title=\"Averse de pluie l\\xc3\\xa9g\\xc3\\xa8re\" class=\"lazy \" data-src=\"https://res.meteoart.com/images/weather_icons/new/day/rain-2.svg\" /></div> <div class=\"weather_day_mm\"><span data-length=\"0.75\">0,8</span> <span class=\"length_unit\">mm</span></div> <div class=\"fourteen_day_wrap\"> <span class=\"fourteen-max\"><span data-temp=\"28\">28</span><span class=\"degree_sign\">\\xc2\\xb0</span></span> <span class=\"fourteen-separator\">/</span> <span class=\"fourteen-min\"><span data-temp=\"26\">26</span><span class=\"degree_sign\">\\xc2\\xb0</span></span> </div> </div> </a><a onClick=\"gtag(\\'event\\', \\'Click on 14 day gallery\\', {\\'event_category\\' :\\'Click on 14 day gallery\\', \\'event_action\\' :\\'3\\'})\" href=\"https://www.meteoart.com/africa/senegal?page=day#date=2024-08-09\" class=\"day-link-from-14-gallery\"> <div class=\"weather_day_box \" data-date=\"2024-08-09\"> <div class=\"weather_day_date\">vendredi</div> <div class=\"weather_date_month\">9 ao\\xc3\\xbbt</div> <div class=\"weather_day_img\"><img width=\"50\" height=\"50\" alt=\"Risques de pluie \\xc3\\xa9parse\" title=\"Risques de pluie \\xc3\\xa9parse\" class=\"lazy \" data-src=\"https://res.meteoart.com/images/weather_icons/new/day/rain-interval-2.svg\" /></div> <div class=\"weather_day_mm\"><span data-length=\"0\">0</span> <span class=\"length_unit\">mm</span></div> <div class=\"fourteen_day_wrap\"> <span class=\"fourteen-max\"><span data-temp=\"27\">27</span><span class=\"degree_sign\">\\xc2\\xb0</span></span> <span class=\"fourteen-separator\">/</span> <span class=\"fourteen-min\"><span data-temp=\"27\">27</span><span class=\"degree_sign\">\\xc2\\xb0</span></span> </div> </div> </a><a onClick=\"gtag(\\'event\\', \\'Click on 14 day gallery\\', {\\'event_category\\' :\\'Click on 14 day gallery\\', \\'event_action\\' :\\'4\\'})\" href=\"https://www.meteoart.com/africa/senegal?page=day#date=2024-08-10\" class=\"day-link-from-14-gallery\"> <div class=\"weather_day_box \" data-date=\"2024-08-10\"> <div class=\"weather_day_date\">samedi</div> <div class=\"weather_date_month\">10 ao\\xc3\\xbbt</div> <div class=\"weather_day_img\"><img width=\"50\" height=\"50\" alt=\"Averse de pluie l\\xc3\\xa9g\\xc3\\xa8re\" title=\"Averse de pluie l\\xc3\\xa9g\\xc3\\xa8re\" class=\"lazy \" data-src=\"https://res.meteoart.com/images/weather_icons/new/day/rain-2.svg\" /></div> <div class=\"weather_day_mm\"><span data-length=\"1.5\">1,5</span> <span class=\"length_unit\">mm</span></div> <div class=\"fourteen_day_wrap\"> <span class=\"fourteen-max\"><span data-temp=\"27\">27</span><span class=\"degree_sign\">\\xc2\\xb0</span></span> <span class=\"fourteen-separator\">/</span> <span class=\"fourteen-min\"><span data-temp=\"27\">27</span><span class=\"degree_sign\">\\xc2\\xb0</span></span> </div> </div> </a><a onClick=\"gtag(\\'event\\', \\'Click on 14 day gallery\\', {\\'event_category\\' :\\'Click on 14 day gallery\\', \\'event_action\\' :\\'5\\'})\" href=\"https://www.meteoart.com/africa/senegal?page=day#date=2024-08-11\" class=\"day-link-from-14-gallery\"> <div class=\"weather_day_box \" data-date=\"2024-08-11\"> <div class=\"weather_day_date\">dimanche</div> <div class=\"weather_date_month\">11 ao\\xc3\\xbbt</div> <div class=\"weather_day_img\"><img width=\"50\" height=\"50\" alt=\"Partiellement nuageux\" title=\"Partiellement nuageux\" class=\"lazy \" data-src=\"https://res.meteoart.com/images/weather_icons/new/day/interval.svg\" /></div> <div class=\"weather_day_mm\"><span data-length=\"0\">0</span> <span class=\"length_unit\">mm</span></div> <div class=\"fourteen_day_wrap\"> <span class=\"fourteen-max\"><span data-temp=\"27\">27</span><span class=\"degree_sign\">\\xc2\\xb0</span></span> <span class=\"fourteen-separator\">/</span> <span class=\"fourteen-min\"><span data-temp=\"27\">27</span><span class=\"degree_sign\">\\xc2\\xb0</span></span> </div> </div> </a><a onClick=\"gtag(\\'event\\', \\'Click on 14 day gallery\\', {\\'event_category\\' :\\'Click on 14 day gallery\\', \\'event_action\\' :\\'6\\'})\" href=\"https://www.meteoart.com/africa/senegal?page=day#date=2024-08-12\" class=\"day-link-from-14-gallery\"> <div class=\"weather_day_box \" data-date=\"2024-08-12\"> <div class=\"weather_day_date\">lundi</div> <div class=\"weather_date_month\">12 ao\\xc3\\xbbt</div> <div class=\"weather_day_img\"><img width=\"50\" height=\"50\" alt=\"Risques de pluie \\xc3\\xa9parse\" title=\"Risques de pluie \\xc3\\xa9parse\" class=\"lazy \" data-src=\"https://res.meteoart.com/images/weather_icons/new/day/rain-interval-2.svg\" /></div> <div class=\"weather_day_mm\"><span data-length=\"0.75\">0,8</span> <span class=\"length_unit\">mm</span></div> <div class=\"fourteen_day_wrap\"> <span class=\"fourteen-max\"><span data-temp=\"28\">28</span><span class=\"degree_sign\">\\xc2\\xb0</span></span> <span class=\"fourteen-separator\">/</span> <span class=\"fourteen-min\"><span data-temp=\"27\">27</span><span class=\"degree_sign\">\\xc2\\xb0</span></span> </div> </div> </a><a onClick=\"gtag(\\'event\\', \\'Click on 14 day gallery\\', {\\'event_category\\' :\\'Click on 14 day gallery\\', \\'event_action\\' :\\'7\\'})\" href=\"https://www.meteoart.com/africa/senegal?page=day#date=2024-08-13\" class=\"day-link-from-14-gallery\"> <div class=\"weather_day_box \" data-date=\"2024-08-13\"> <div class=\"weather_day_date\">mardi</div> <div class=\"weather_date_month\">13 ao\\xc3\\xbbt</div> <div class=\"weather_day_img\"><img width=\"50\" height=\"50\" alt=\"Bruine l\\xc3\\xa9g\\xc3\\xa8re \\xc3\\xa9parse\" title=\"Bruine l\\xc3\\xa9g\\xc3\\xa8re \\xc3\\xa9parse\" class=\"lazy \" data-src=\"https://res.meteoart.com/images/weather_icons/new/day/rain-interval-2.svg\" /></div> <div class=\"weather_day_mm\"><span data-length=\"4\">4</span> <span class=\"length_unit\">mm</span></div> <div class=\"fourteen_day_wrap\"> <span class=\"fourteen-max\"><span data-temp=\"28\">28</span><span class=\"degree_sign\">\\xc2\\xb0</span></span> <span class=\"fourteen-separator\">/</span> <span class=\"fourteen-min\"><span data-temp=\"27\">27</span><span class=\"degree_sign\">\\xc2\\xb0</span></span> </div> </div> </a><a onClick=\"gtag(\\'event\\', \\'Click on 14 day gallery\\', {\\'event_category\\' :\\'Click on 14 day gallery\\', \\'event_action\\' :\\'8\\'})\" href=\"https://www.meteoart.com/africa/senegal?page=day#date=2024-08-14\" class=\"day-link-from-14-gallery\"> <div class=\"weather_day_box \" data-date=\"2024-08-14\"> <div class=\"weather_day_date\">mercredi</div> <div class=\"weather_date_month\">14 ao\\xc3\\xbbt</div> <div class=\"weather_day_img\"><img width=\"50\" height=\"50\" alt=\"Averse de pluie l\\xc3\\xa9g\\xc3\\xa8re\" title=\"Averse de pluie l\\xc3\\xa9g\\xc3\\xa8re\" class=\"lazy \" data-src=\"https://res.meteoart.com/images/weather_icons/new/day/rain-2.svg\" /></div> <div class=\"weather_day_mm\"><span data-length=\"4.75\">4,8</span> <span class=\"length_unit\">mm</span></div> <div class=\"fourteen_day_wrap\"> <span class=\"fourteen-max\"><span data-temp=\"27\">27</span><span class=\"degree_sign\">\\xc2\\xb0</span></span> <span class=\"fourteen-separator\">/</span> <span class=\"fourteen-min\"><span data-temp=\"27\">27</span><span class=\"degree_sign\">\\xc2\\xb0</span></span> </div> </div> </a><a onClick=\"gtag(\\'event\\', \\'Click on 14 day gallery\\', {\\'event_category\\' :\\'Click on 14 day gallery\\', \\'event_action\\' :\\'9\\'})\" href=\"https://www.meteoart.com/africa/senegal?page=day#date=2024-08-15\" class=\"day-link-from-14-gallery\"> <div class=\"weather_day_box \" data-date=\"2024-08-15\"> <div class=\"weather_day_date\">jeudi</div> <div class=\"weather_date_month\">15 ao\\xc3\\xbbt</div> <div class=\"weather_day_img\"><img width=\"50\" height=\"50\" alt=\"Risques de pluie \\xc3\\xa9parse\" title=\"Risques de pluie \\xc3\\xa9parse\" class=\"lazy \" data-src=\"https://res.meteoart.com/images/weather_icons/new/day/rain-interval-2.svg\" /></div> <div class=\"weather_day_mm\"><span data-length=\"1.75\">1,8</span> <span class=\"length_unit\">mm</span></div> <div class=\"fourteen_day_wrap\"> <span class=\"fourteen-max\"><span data-temp=\"28\">28</span><span class=\"degree_sign\">\\xc2\\xb0</span></span> <span class=\"fourteen-separator\">/</span> <span class=\"fourteen-min\"><span data-temp=\"27\">27</span><span class=\"degree_sign\">\\xc2\\xb0</span></span> </div> </div> </a><a onClick=\"gtag(\\'event\\', \\'Click on 14 day gallery\\', {\\'event_category\\' :\\'Click on 14 day gallery\\', \\'event_action\\' :\\'10\\'})\" href=\"https://www.meteoart.com/africa/senegal?page=day#date=2024-08-16\" class=\"day-link-from-14-gallery\"> <div class=\"weather_day_box \" data-date=\"2024-08-16\"> <div class=\"weather_day_date\">vendredi</div> <div class=\"weather_date_month\">16 ao\\xc3\\xbbt</div> <div class=\"weather_day_img\"><img width=\"50\" height=\"50\" alt=\"Averse de pluie mod\\xc3\\xa9r\\xc3\\xa9e\" title=\"Averse de pluie mod\\xc3\\xa9r\\xc3\\xa9e\" class=\"lazy \" data-src=\"https://res.meteoart.com/images/weather_icons/new/day/rain-3.svg\" /></div> <div class=\"weather_day_mm\"><span data-length=\"81.25\">81,3</span> <span class=\"length_unit\">mm</span></div> <div class=\"fourteen_day_wrap\"> <span class=\"fourteen-max\"><span data-temp=\"26\">26</span><span class=\"degree_sign\">\\xc2\\xb0</span></span> <span class=\"fourteen-separator\">/</span> <span class=\"fourteen-min\"><span data-temp=\"25\">25</span><span class=\"degree_sign\">\\xc2\\xb0</span></span> </div> </div> </a><a onClick=\"gtag(\\'event\\', \\'Click on 14 day gallery\\', {\\'event_category\\' :\\'Click on 14 day gallery\\', \\'event_action\\' :\\'11\\'})\" href=\"https://www.meteoart.com/africa/senegal?page=day#date=2024-08-17\" class=\"day-link-from-14-gallery\"> <div class=\"weather_day_box \" data-date=\"2024-08-17\"> <div class=\"weather_day_date\">samedi</div> <div class=\"weather_date_month\">17 ao\\xc3\\xbbt</div> <div class=\"weather_day_img\"><img width=\"50\" height=\"50\" alt=\"Averse de pluie l\\xc3\\xa9g\\xc3\\xa8re\" title=\"Averse de pluie l\\xc3\\xa9g\\xc3\\xa8re\" class=\"lazy \" data-src=\"https://res.meteoart.com/images/weather_icons/new/day/rain-2.svg\" /></div> <div class=\"weather_day_mm\"><span data-length=\"13\">13</span> <span class=\"length_unit\">mm</span></div> <div class=\"fourteen_day_wrap\"> <span class=\"fourteen-max\"><span data-temp=\"27\">27</span><span class=\"degree_sign\">\\xc2\\xb0</span></span> <span class=\"fourteen-separator\">/</span> <span class=\"fourteen-min\"><span data-temp=\"25\">25</span><span class=\"degree_sign\">\\xc2\\xb0</span></span> </div> </div> </a><a onClick=\"gtag(\\'event\\', \\'Click on 14 day gallery\\', {\\'event_category\\' :\\'Click on 14 day gallery\\', \\'event_action\\' :\\'12\\'})\" href=\"https://www.meteoart.com/africa/senegal?page=day#date=2024-08-18\" class=\"day-link-from-14-gallery\"> <div class=\"weather_day_box \" data-date=\"2024-08-18\"> <div class=\"weather_day_date\">dimanche</div> <div class=\"weather_date_month\">18 ao\\xc3\\xbbt</div> <div class=\"weather_day_img\"><img width=\"50\" height=\"50\" alt=\"Bruine l\\xc3\\xa9g\\xc3\\xa8re \\xc3\\xa9parse\" title=\"Bruine l\\xc3\\xa9g\\xc3\\xa8re \\xc3\\xa9parse\" class=\"lazy \" data-src=\"https://res.meteoart.com/images/weather_icons/new/day/rain-interval-2.svg\" /></div> <div class=\"weather_day_mm\"><span data-length=\"2\">2</span> <span class=\"length_unit\">mm</span></div> <div class=\"fourteen_day_wrap\"> <span class=\"fourteen-max\"><span data-temp=\"28\">28</span><span class=\"degree_sign\">\\xc2\\xb0</span></span> <span class=\"fourteen-separator\">/</span> <span class=\"fourteen-min\"><span data-temp=\"27\">27</span><span class=\"degree_sign\">\\xc2\\xb0</span></span> </div> </div> </a><a onClick=\"gtag(\\'event\\', \\'Click on 14 day gallery\\', {\\'event_category\\' :\\'Click on 14 day gallery\\', \\'event_action\\' :\\'13\\'})\" href=\"https://www.meteoart.com/africa/senegal?page=day#date=2024-08-19\" class=\"day-link-from-14-gallery\"> <div class=\"weather_day_box \" data-date=\"2024-08-19\"> <div class=\"weather_day_date\">lundi</div> <div class=\"weather_date_month\">19 ao\\xc3\\xbbt</div> <div class=\"weather_day_img\"><img width=\"50\" height=\"50\" alt=\"Nuageux\" title=\"Nuageux\" class=\"lazy \" data-src=\"https://res.meteoart.com/images/weather_icons/new/day/cloud.svg\" /></div> <div class=\"weather_day_mm\"><span data-length=\"0\">0</span> <span class=\"length_unit\">mm</span></div> <div class=\"fourteen_day_wrap\"> <span class=\"fourteen-max\"><span data-temp=\"28\">28</span><span class=\"degree_sign\">\\xc2\\xb0</span></span> <span class=\"fourteen-separator\">/</span> <span class=\"fourteen-min\"><span data-temp=\"27\">27</span><span class=\"degree_sign\">\\xc2\\xb0</span></span> </div> </div> </a> <a href=\"https://www.meteoart.com/africa/senegal?page=long-range\" onClick=\"gtag(\\'event\\', \\'Click on 14 day gallery\\', {\\'event_category\\' :\\'Click on 14 day gallery\\', \\'event_action\\' :\\'Next Month\\'})\"> <div class=\"weather_day_box other-month\" id=\"long-range-button\"> <div class=\"see-next-month\">Mois prochain >></div> </div> </a> </div> </div> <div class=\"gallery_control gallery_next enable\"> <button aria-label=\"Prochaine\"> <span class=\"gallery-arrow\"></span> </button> </div> </div> </div> <div class=\"section-wrap first-section month-text-wrap\"> <h2 class=\"section-header\">Pr\\xc3\\xa9vision m\\xc3\\xa9t\\xc3\\xa9o S\\xc3\\xa9n\\xc3\\xa9gal ao\\xc3\\xbbt 2024</h2> <div class=\"section-content text-and-bubbles\"> <div class=\"text-wrap\"><p>Il fait tr\\xc3\\xa8s chaud au S\\xc3\\xa9n\\xc3\\xa9gal en ao\\xc3\\xbbt. En moyenne, les <b>temp\\xc3\\xa9ratures d\\'une journ\\xc3\\xa9e en ao\\xc3\\xbbt vont de <span class=\"min_temp\">26</span>\\xc2\\xb0<span class=\"temp_unit\">C</span> le matin jusqu\\'\\xc3\\xa0 <span class=\"max_temp\">29</span>\\xc2\\xb0<span class=\"temp_unit\">C</span></b> en mi-journ\\xc3\\xa9e, une hausse cons\\xc3\\xa9quente. Il est important de boire beaucoup d\\'eau et de rester bien \\xc3\\xa0 l\\'ombre.</p><p>Nos pr\\xc3\\xa9visions estiment <b>3 et 8 jours de pluie</b> en moyenne au S\\xc3\\xa9n\\xc3\\xa9gal en ao\\xc3\\xbbt. Pour \\xc3\\xa9viter de vous faire surprendre par la pluie, n\\'oubliez pas de prendre un parapluie avec vous.</p><p>Nos pr\\xc3\\xa9visions m\\xc3\\xa9t\\xc3\\xa9orologiques sont excellentes pour vous permettre de savoir \\xc3\\xa0 quel temps vous attendre au <b>S\\xc3\\xa9n\\xc3\\xa9gal en ao\\xc3\\xbbt 2024</b>.</p><p>Si vous pr\\xc3\\xa9voyez d\\'\\xc3\\xaatre au S\\xc3\\xa9n\\xc3\\xa9gal plus tard, nous vous conseillons de consulter notre page de <a href=\"?page=14\">pr\\xc3\\xa9visions m\\xc3\\xa9t\\xc3\\xa9o \\xc3\\xa0 14 jours au S\\xc3\\xa9n\\xc3\\xa9gal </a> pour vous permettre de bien anticiper le temps avant votre arriv\\xc3\\xa9e.</p></div> <div><div class=\"month-bubbles\" id=\"month_data\"> <div class=\"month_data_line\"> <div class=\"month_data_icon\"><img width=\"24\" height=\"24\" alt=\"Temp\\xc3\\xa9ratures\" title=\"Temp\\xc3\\xa9ratures\" class=\"lazy \" data-src=\"https://res.meteoart.com/images/icons/month/temperatures.svg\" /></div> <div class=\"month-data-text\"> <div class=\"month_data_text\">Temp\\xc3\\xa9ratures</div> <div class=\"month_data_value\" id=\"month_temps\"> <span class=\"month_max bubble-degree month_data_to_animate\" data-temp=\"29\">29</span>\\xc2\\xb0 <span class=\"degree-separator\">/</span> <span class=\"month_min bubble-degree month_data_to_animate\" data-temp=\"26\">26</span>\\xc2\\xb0 </div> </div> </div> <div class=\"month_data_line chnace_for_rain\"> <div class=\"month_data_icon\"><img width=\"24\" height=\"24\" alt=\"Jours de pluie\" title=\"Jours de pluie\" class=\"lazy \" data-src=\"https://res.meteoart.com/images/icons/month/rain.svg\" /></div> <div class=\"month-data-text\"> <div class=\"month_data_text\">Jours de pluie</div> <div class=\"month_data_value\"> <div class=\"month_data_to_animate\">7</div> <div class=\"month_data_units\">Jours</div> </div> </div> </div> <div class=\"month_data_line chnace_for_snow\"> <div class=\"month_data_icon\"><img width=\"24\" height=\"24\" alt=\"Jours enneig\\xc3\\xa9s\" title=\"Jours enneig\\xc3\\xa9s\" class=\"lazy \" data-src=\"https://res.meteoart.com/images/icons/month/snowflake.svg\" /></div> <div class=\"month-data-text\"> <div class=\"month_data_text\">Jours enneig\\xc3\\xa9s</div> <div class=\"month_data_value\"> <div class=\" month_data_to_animate\">0</div> <div class=\"month_data_units\">Jours</div> </div> </div> </div> <div class=\"month_data_line dry_days\"> <div class=\"month_data_icon\"><img width=\"24\" height=\"24\" alt=\"Jours secs\" title=\"Jours secs\" class=\"lazy \" data-src=\"https://res.meteoart.com/images/icons/month/cloud.svg\" /></div> <div class=\"month-data-text\"> <div class=\"month_data_text\">Jours secs</div> <div class=\"month_data_value\"> <div class=\"month_data_to_animate\">24</div> <div class=\"month_data_units\">Jours</div> </div> </div> </div> <div class=\"month_data_line rainfall\"> <div class=\"month_data_icon\"><img width=\"24\" height=\"24\" alt=\"Moy. pr\\xc3\\xa9cipitations\" title=\"Moy. pr\\xc3\\xa9cipitations\" class=\"lazy \" data-src=\"https://res.meteoart.com/images/icons/month/rainfall.svg\" /></div> <div class=\"month-data-text\"> <div class=\"month_data_text\">Moy. pr\\xc3\\xa9cipitations</div> <div class=\"month_data_value\"> <div class=\"month_data_to_animate\" data-length=\"177\">177</div> <div class=\"month_data_units length_unit\">mm</div> </div> </div> </div> <div class=\"month_data_line sun_hours\"> <div class=\"month_data_icon\"><img width=\"24\" height=\"24\" alt=\"10,9\" title=\"10,9\" class=\"lazy \" data-src=\"https://res.meteoart.com/images/icons/month/sun.svg\" /></div> <div class=\"month-data-text\"> <div class=\"month_data_text\">Lumi\\xc3\\xa8re du jour</div> <div class=\"month_data_value\"> <div class=\"month_data_to_animate\">10,9</div> <div class=\"month_data_units\">Hrs</div> </div> </div> </div> <div class=\"horizontal-border\"></div> <div class=\"horizontal-border second-border\"></div> <div class=\"vertical-border\"></div> <div class=\"vertical-border second-border\"></div> </div></div> </div> </div> <div class=\"right-left-section section-wrap \"> <div class=\"desktop-left-section\"> <div class=\"calendar_wrap mobile-e\" id=\"calendar\"> <div class=\"section-header\">Moyenne historique des temp\\xc3\\xa9ratures en ao\\xc3\\xbbt</div> <div class=\"section-content\"> <div class=\"table-with-next-prev\"> <div class=\"next_prev_line_section\"> <a href=\"https://www.meteoart.com/africa/senegal?page=month&month=July\" onclick=\"gtag(\\'event\\', \\'click on line prev month\\', {\\'event_category\\' : \\'click on line prev month\\',\\'event_action\\' : \\'click on line prev month\\', \\'event_label\\' : \\'\\'})\" aria-label=\"Mois pr\\xc3\\xa9c\\xc3\\xa9dent\" class=\"arrow-wrap\"> <div class=\"prev-arrow\"></div> </a> <div class=\"next_prev_line_center\">Ao\\xc3\\xbbt</div> <a href=\"https://www.meteoart.com/africa/senegal?page=month&month=September\" onclick=\"gtag(\\'event\\', \\'click on line next month\\', {\\'event_category\\' : \\'click on line next month\\',\\'event_action\\' : \\'click on line next month\\', \\'event_label\\' : \\'\\'})\" aria-label=\"Mois prochain\" class=\"arrow-wrap\"> <div class=\"next-arrow\"></div> </a> </div> <table class=\"calendar_table\"> <thead><tr> <th>lun</th> <th>mar</th> <th>mer</th> <th>jeu</th> <th>ven</th> <th>sam</th> <th>dim</th> </tr></thead><tbody><tr><td><div class=\"calendar_day empty\"></div></td><td><div class=\"calendar_day empty\"></div></td><td><div class=\"calendar_day empty\"></div></td><td><a href=\"https://www.meteoart.com/africa/senegal?page=past-weather#day=1&month=8\" onClick=\"gtag(\\'event\\', \\'Click on calendar day\\', {\\'event_category\\' :\\'Click on calendar day\\', \\'event_action\\' :\\'d:1 m:8\\'})\" title=\"m\\xc3\\xa9t\\xc3\\xa9o 1 ao\\xc3\\xbbt 2024\" class=\"calendar_day\"> <div class=\"calendar_day_day\">1</div> <img width=\"34\" height=\"34\" alt=\"Risques de pluie \\xc3\\xa9parse\" title=\"Risques de pluie \\xc3\\xa9parse\" class=\"lazy calendar_day_image\" data-src=\"https://res.meteoart.com/images/weather_icons/new/day/rain-interval-2.svg\" /> <div class=\"calendar_day_degree\"> <span class=\"max-degree\"><span data-temp=\"27\">27</span><span class=\"degree_sign\">\\xc2\\xb0</span></span> <span class=\"min-degree\">/<span data-temp=\"23\">23</span><span class=\"degree_sign\">\\xc2\\xb0</span></span> </div> </a></td><td><a href=\"https://www.meteoart.com/africa/senegal?page=past-weather#day=2&month=8\" onClick=\"gtag(\\'event\\', \\'Click on calendar day\\', {\\'event_category\\' :\\'Click on calendar day\\', \\'event_action\\' :\\'d:2 m:8\\'})\" title=\"m\\xc3\\xa9t\\xc3\\xa9o 2 ao\\xc3\\xbbt 2024\" class=\"calendar_day\"> <div class=\"calendar_day_day\">2</div> <img width=\"34\" height=\"34\" alt=\"Averse de pluie mod\\xc3\\xa9r\\xc3\\xa9e\" title=\"Averse de pluie mod\\xc3\\xa9r\\xc3\\xa9e\" class=\"lazy calendar_day_image\" data-src=\"https://res.meteoart.com/images/weather_icons/new/day/rain-3.svg\" /> <div class=\"calendar_day_degree\"> <span class=\"max-degree\"><span data-temp=\"27\">27</span><span class=\"degree_sign\">\\xc2\\xb0</span></span> <span class=\"min-degree\">/<span data-temp=\"24\">24</span><span class=\"degree_sign\">\\xc2\\xb0</span></span> </div> </a></td><td><a href=\"https://www.meteoart.com/africa/senegal?page=past-weather#day=3&month=8\" onClick=\"gtag(\\'event\\', \\'Click on calendar day\\', {\\'event_category\\' :\\'Click on calendar day\\', \\'event_action\\' :\\'d:3 m:8\\'})\" title=\"m\\xc3\\xa9t\\xc3\\xa9o 3 ao\\xc3\\xbbt 2024\" class=\"calendar_day\"> <div class=\"calendar_day_day\">3</div> <img width=\"34\" height=\"34\" alt=\"Couvert\" title=\"Couvert\" class=\"lazy calendar_day_image\" data-src=\"https://res.meteoart.com/images/weather_icons/new/day/overcast.svg\" /> <div class=\"calendar_day_degree\"> <span class=\"max-degree\"><span data-temp=\"27\">27</span><span class=\"degree_sign\">\\xc2\\xb0</span></span> <span class=\"min-degree\">/<span data-temp=\"24\">24</span><span class=\"degree_sign\">\\xc2\\xb0</span></span> </div> </a></td><td><a href=\"https://www.meteoart.com/africa/senegal?page=past-weather#day=4&month=8\" onClick=\"gtag(\\'event\\', \\'Click on calendar day\\', {\\'event_category\\' :\\'Click on calendar day\\', \\'event_action\\' :\\'d:4 m:8\\'})\" title=\"m\\xc3\\xa9t\\xc3\\xa9o 4 ao\\xc3\\xbbt 2024\" class=\"calendar_day\"> <div class=\"calendar_day_day\">4</div> <img width=\"34\" height=\"34\" alt=\"Averse de pluie l\\xc3\\xa9g\\xc3\\xa8re\" title=\"Averse de pluie l\\xc3\\xa9g\\xc3\\xa8re\" class=\"lazy calendar_day_image\" data-src=\"https://res.meteoart.com/images/weather_icons/new/day/rain-2.svg\" /> <div class=\"calendar_day_degree\"> <span class=\"max-degree\"><span data-temp=\"27\">27</span><span class=\"degree_sign\">\\xc2\\xb0</span></span> <span class=\"min-degree\">/<span data-temp=\"25\">25</span><span class=\"degree_sign\">\\xc2\\xb0</span></span> </div> </a></td></tr><tr><td><a href=\"https://www.meteoart.com/africa/senegal?page=past-weather#day=5&month=8\" onClick=\"gtag(\\'event\\', \\'Click on calendar day\\', {\\'event_category\\' :\\'Click on calendar day\\', \\'event_action\\' :\\'d:5 m:8\\'})\" title=\"m\\xc3\\xa9t\\xc3\\xa9o 5 ao\\xc3\\xbbt 2024\" class=\"calendar_day\"> <div class=\"calendar_day_day\">5</div> <img width=\"34\" height=\"34\" alt=\"Risques de pluie \\xc3\\xa9parse\" title=\"Risques de pluie \\xc3\\xa9parse\" class=\"lazy calendar_day_image\" data-src=\"https://res.meteoart.com/images/weather_icons/new/day/rain-interval-2.svg\" /> <div class=\"calendar_day_degree\"> <span class=\"max-degree\"><span data-temp=\"26\">26</span><span class=\"degree_sign\">\\xc2\\xb0</span></span> <span class=\"min-degree\">/<span data-temp=\"23\">23</span><span class=\"degree_sign\">\\xc2\\xb0</span></span> </div> </a></td><td class=\"today\"><a href=\"https://www.meteoart.com/africa/senegal?page=today\" onClick=\"gtag(\\'event\\', \\'Click on calendar day\\', {\\'event_category\\' :\\'Click on calendar day\\', \\'event_action\\' :\\'d:6 m:8\\'})\" title=\"m\\xc3\\xa9t\\xc3\\xa9o 6 ao\\xc3\\xbbt 2024\" class=\"calendar_day\"> <div class=\"calendar_day_day\">6</div> <img width=\"34\" height=\"34\" alt=\"Risques de pluie \\xc3\\xa9parse\" title=\"Risques de pluie \\xc3\\xa9parse\" class=\"lazy calendar_day_image\" data-src=\"https://res.meteoart.com/images/weather_icons/new/day/rain-interval-2.svg\" /> <div class=\"calendar_day_degree\"> <span class=\"max-degree\"><span data-temp=\"28\">28</span><span class=\"degree_sign\">\\xc2\\xb0</span></span> <span class=\"min-degree\">/<span data-temp=\"27\">27</span><span class=\"degree_sign\">\\xc2\\xb0</span></span> </div> </a></td><td><a href=\"https://www.meteoart.com/africa/senegal?page=tomorrow\" onClick=\"gtag(\\'event\\', \\'Click on calendar day\\', {\\'event_category\\' :\\'Click on calendar day\\', \\'event_action\\' :\\'d:7 m:8\\'})\" title=\"m\\xc3\\xa9t\\xc3\\xa9o 7 ao\\xc3\\xbbt 2024\" class=\"calendar_day\"> <div class=\"calendar_day_day\">7</div> <img width=\"34\" height=\"34\" alt=\"Averse de pluie l\\xc3\\xa9g\\xc3\\xa8re\" title=\"Averse de pluie l\\xc3\\xa9g\\xc3\\xa8re\" class=\"lazy calendar_day_image\" data-src=\"https://res.meteoart.com/images/weather_icons/new/day/rain-2.svg\" /> <div class=\"calendar_day_degree\"> <span class=\"max-degree\"><span data-temp=\"27\">27</span><span class=\"degree_sign\">\\xc2\\xb0</span></span> <span class=\"min-degree\">/<span data-temp=\"26\">26</span><span class=\"degree_sign\">\\xc2\\xb0</span></span> </div> </a></td><td><a href=\"https://www.meteoart.com/africa/senegal?page=day#date=2024-08-08\" onClick=\"gtag(\\'event\\', \\'Click on calendar day\\', {\\'event_category\\' :\\'Click on calendar day\\', \\'event_action\\' :\\'d:8 m:8\\'})\" title=\"m\\xc3\\xa9t\\xc3\\xa9o 8 ao\\xc3\\xbbt 2024\" class=\"calendar_day\"> <div class=\"calendar_day_day\">8</div> <img width=\"34\" height=\"34\" alt=\"Averse de pluie l\\xc3\\xa9g\\xc3\\xa8re\" title=\"Averse de pluie l\\xc3\\xa9g\\xc3\\xa8re\" class=\"lazy calendar_day_image\" data-src=\"https://res.meteoart.com/images/weather_icons/new/day/rain-2.svg\" /> <div class=\"calendar_day_degree\"> <span class=\"max-degree\"><span data-temp=\"28\">28</span><span class=\"degree_sign\">\\xc2\\xb0</span></span> <span class=\"min-degree\">/<span data-temp=\"26\">26</span><span class=\"degree_sign\">\\xc2\\xb0</span></span> </div> </a></td><td><a href=\"https://www.meteoart.com/africa/senegal?page=day#date=2024-08-09\" onClick=\"gtag(\\'event\\', \\'Click on calendar day\\', {\\'event_category\\' :\\'Click on calendar day\\', \\'event_action\\' :\\'d:9 m:8\\'})\" title=\"m\\xc3\\xa9t\\xc3\\xa9o 9 ao\\xc3\\xbbt 2024\" class=\"calendar_day\"> <div class=\"calendar_day_day\">9</div> <img width=\"34\" height=\"34\" alt=\"Risques de pluie \\xc3\\xa9parse\" title=\"Risques de pluie \\xc3\\xa9parse\" class=\"lazy calendar_day_image\" data-src=\"https://res.meteoart.com/images/weather_icons/new/day/rain-interval-2.svg\" /> <div class=\"calendar_day_degree\"> <span class=\"max-degree\"><span data-temp=\"27\">27</span><span class=\"degree_sign\">\\xc2\\xb0</span></span> <span class=\"min-degree\">/<span data-temp=\"27\">27</span><span class=\"degree_sign\">\\xc2\\xb0</span></span> </div> </a></td><td><a href=\"https://www.meteoart.com/africa/senegal?page=day#date=2024-08-10\" onClick=\"gtag(\\'event\\', \\'Click on calendar day\\', {\\'event_category\\' :\\'Click on calendar day\\', \\'event_action\\' :\\'d:10 m:8\\'})\" title=\"m\\xc3\\xa9t\\xc3\\xa9o 10 ao\\xc3\\xbbt 2024\" class=\"calendar_day\"> <div class=\"calendar_day_day\">10</div> <img width=\"34\" height=\"34\" alt=\"Averse de pluie l\\xc3\\xa9g\\xc3\\xa8re\" title=\"Averse de pluie l\\xc3\\xa9g\\xc3\\xa8re\" class=\"lazy calendar_day_image\" data-src=\"https://res.meteoart.com/images/weather_icons/new/day/rain-2.svg\" /> <div class=\"calendar_day_degree\"> <span class=\"max-degree\"><span data-temp=\"27\">27</span><span class=\"degree_sign\">\\xc2\\xb0</span></span> <span class=\"min-degree\">/<span data-temp=\"27\">27</span><span class=\"degree_sign\">\\xc2\\xb0</span></span> </div> </a></td><td><a href=\"https://www.meteoart.com/africa/senegal?page=day#date=2024-08-11\" onClick=\"gtag(\\'event\\', \\'Click on calendar day\\', {\\'event_category\\' :\\'Click on calendar day\\', \\'event_action\\' :\\'d:11 m:8\\'})\" title=\"m\\xc3\\xa9t\\xc3\\xa9o 11 ao\\xc3\\xbbt 2024\" class=\"calendar_day\"> <div class=\"calendar_day_day\">11</div> <img width=\"34\" height=\"34\" alt=\"Partiellement nuageux\" title=\"Partiellement nuageux\" class=\"lazy calendar_day_image\" data-src=\"https://res.meteoart.com/images/weather_icons/new/day/interval.svg\" /> <div class=\"calendar_day_degree\"> <span class=\"max-degree\"><span data-temp=\"27\">27</span><span class=\"degree_sign\">\\xc2\\xb0</span></span> <span class=\"min-degree\">/<span data-temp=\"27\">27</span><span class=\"degree_sign\">\\xc2\\xb0</span></span> </div> </a></td></tr><tr><td><a href=\"https://www.meteoart.com/africa/senegal?page=day#date=2024-08-12\" onClick=\"gtag(\\'event\\', \\'Click on calendar day\\', {\\'event_category\\' :\\'Click on calendar day\\', \\'event_action\\' :\\'d:12 m:8\\'})\" title=\"m\\xc3\\xa9t\\xc3\\xa9o 12 ao\\xc3\\xbbt 2024\" class=\"calendar_day\"> <div class=\"calendar_day_day\">12</div> <img width=\"34\" height=\"34\" alt=\"Risques de pluie \\xc3\\xa9parse\" title=\"Risques de pluie \\xc3\\xa9parse\" class=\"lazy calendar_day_image\" data-src=\"https://res.meteoart.com/images/weather_icons/new/day/rain-interval-2.svg\" /> <div class=\"calendar_day_degree\"> <span class=\"max-degree\"><span data-temp=\"28\">28</span><span class=\"degree_sign\">\\xc2\\xb0</span></span> <span class=\"min-degree\">/<span data-temp=\"27\">27</span><span class=\"degree_sign\">\\xc2\\xb0</span></span> </div> </a></td><td><a href=\"https://www.meteoart.com/africa/senegal?page=day#date=2024-08-13\" onClick=\"gtag(\\'event\\', \\'Click on calendar day\\', {\\'event_category\\' :\\'Click on calendar day\\', \\'event_action\\' :\\'d:13 m:8\\'})\" title=\"m\\xc3\\xa9t\\xc3\\xa9o 13 ao\\xc3\\xbbt 2024\" class=\"calendar_day\"> <div class=\"calendar_day_day\">13</div> <img width=\"34\" height=\"34\" alt=\"Bruine l\\xc3\\xa9g\\xc3\\xa8re \\xc3\\xa9parse\" title=\"Bruine l\\xc3\\xa9g\\xc3\\xa8re \\xc3\\xa9parse\" class=\"lazy calendar_day_image\" data-src=\"https://res.meteoart.com/images/weather_icons/new/day/rain-interval-2.svg\" /> <div class=\"calendar_day_degree\"> <span class=\"max-degree\"><span data-temp=\"28\">28</span><span class=\"degree_sign\">\\xc2\\xb0</span></span> <span class=\"min-degree\">/<span data-temp=\"27\">27</span><span class=\"degree_sign\">\\xc2\\xb0</span></span> </div> </a></td><td><a href=\"https://www.meteoart.com/africa/senegal?page=day#date=2024-08-14\" onClick=\"gtag(\\'event\\', \\'Click on calendar day\\', {\\'event_category\\' :\\'Click on calendar day\\', \\'event_action\\' :\\'d:14 m:8\\'})\" title=\"m\\xc3\\xa9t\\xc3\\xa9o 14 ao\\xc3\\xbbt 2024\" class=\"calendar_day\"> <div class=\"calendar_day_day\">14</div> <img width=\"34\" height=\"34\" alt=\"Averse de pluie l\\xc3\\xa9g\\xc3\\xa8re\" title=\"Averse de pluie l\\xc3\\xa9g\\xc3\\xa8re\" class=\"lazy calendar_day_image\" data-src=\"https://res.meteoart.com/images/weather_icons/new/day/rain-2.svg\" /> <div class=\"calendar_day_degree\"> <span class=\"max-degree\"><span data-temp=\"27\">27</span><span class=\"degree_sign\">\\xc2\\xb0</span></span> <span class=\"min-degree\">/<span data-temp=\"27\">27</span><span class=\"degree_sign\">\\xc2\\xb0</span></span> </div> </a></td><td><a href=\"https://www.meteoart.com/africa/senegal?page=day#date=2024-08-15\" onClick=\"gtag(\\'event\\', \\'Click on calendar day\\', {\\'event_category\\' :\\'Click on calendar day\\', \\'event_action\\' :\\'d:15 m:8\\'})\" title=\"m\\xc3\\xa9t\\xc3\\xa9o 15 ao\\xc3\\xbbt 2024\" class=\"calendar_day\"> <div class=\"calendar_day_day\">15</div> <img width=\"34\" height=\"34\" alt=\"Risques de pluie \\xc3\\xa9parse\" title=\"Risques de pluie \\xc3\\xa9parse\" class=\"lazy calendar_day_image\" data-src=\"https://res.meteoart.com/images/weather_icons/new/day/rain-interval-2.svg\" /> <div class=\"calendar_day_degree\"> <span class=\"max-degree\"><span data-temp=\"28\">28</span><span class=\"degree_sign\">\\xc2\\xb0</span></span> <span class=\"min-degree\">/<span data-temp=\"27\">27</span><span class=\"degree_sign\">\\xc2\\xb0</span></span> </div> </a></td><td><a href=\"https://www.meteoart.com/africa/senegal?page=day#date=2024-08-16\" onClick=\"gtag(\\'event\\', \\'Click on calendar day\\', {\\'event_category\\' :\\'Click on calendar day\\', \\'event_action\\' :\\'d:16 m:8\\'})\" title=\"m\\xc3\\xa9t\\xc3\\xa9o 16 ao\\xc3\\xbbt 2024\" class=\"calendar_day\"> <div class=\"calendar_day_day\">16</div> <img width=\"34\" height=\"34\" alt=\"Averse de pluie mod\\xc3\\xa9r\\xc3\\xa9e\" title=\"Averse de pluie mod\\xc3\\xa9r\\xc3\\xa9e\" class=\"lazy calendar_day_image\" data-src=\"https://res.meteoart.com/images/weather_icons/new/day/rain-3.svg\" /> <div class=\"calendar_day_degree\"> <span class=\"max-degree\"><span data-temp=\"26\">26</span><span class=\"degree_sign\">\\xc2\\xb0</span></span> <span class=\"min-degree\">/<span data-temp=\"25\">25</span><span class=\"degree_sign\">\\xc2\\xb0</span></span> </div> </a></td><td><a href=\"https://www.meteoart.com/africa/senegal?page=day#date=2024-08-17\" onClick=\"gtag(\\'event\\', \\'Click on calendar day\\', {\\'event_category\\' :\\'Click on calendar day\\', \\'event_action\\' :\\'d:17 m:8\\'})\" title=\"m\\xc3\\xa9t\\xc3\\xa9o 17 ao\\xc3\\xbbt 2024\" class=\"calendar_day\"> <div class=\"calendar_day_day\">17</div> <img width=\"34\" height=\"34\" alt=\"Averse de pluie l\\xc3\\xa9g\\xc3\\xa8re\" title=\"Averse de pluie l\\xc3\\xa9g\\xc3\\xa8re\" class=\"lazy calendar_day_image\" data-src=\"https://res.meteoart.com/images/weather_icons/new/day/rain-2.svg\" /> <div class=\"calendar_day_degree\"> <span class=\"max-degree\"><span data-temp=\"27\">27</span><span class=\"degree_sign\">\\xc2\\xb0</span></span> <span class=\"min-degree\">/<span data-temp=\"25\">25</span><span class=\"degree_sign\">\\xc2\\xb0</span></span> </div> </a></td><td><a href=\"https://www.meteoart.com/africa/senegal?page=day#date=2024-08-18\" onClick=\"gtag(\\'event\\', \\'Click on calendar day\\', {\\'event_category\\' :\\'Click on calendar day\\', \\'event_action\\' :\\'d:18 m:8\\'})\" title=\"m\\xc3\\xa9t\\xc3\\xa9o 18 ao\\xc3\\xbbt 2024\" class=\"calendar_day\"> <div class=\"calendar_day_day\">18</div> <img width=\"34\" height=\"34\" alt=\"Bruine l\\xc3\\xa9g\\xc3\\xa8re \\xc3\\xa9parse\" title=\"Bruine l\\xc3\\xa9g\\xc3\\xa8re \\xc3\\xa9parse\" class=\"lazy calendar_day_image\" data-src=\"https://res.meteoart.com/images/weather_icons/new/day/rain-interval-2.svg\" /> <div class=\"calendar_day_degree\"> <span class=\"max-degree\"><span data-temp=\"28\">28</span><span class=\"degree_sign\">\\xc2\\xb0</span></span> <span class=\"min-degree\">/<span data-temp=\"27\">27</span><span class=\"degree_sign\">\\xc2\\xb0</span></span> </div> </a></td></tr><tr><td><a href=\"https://www.meteoart.com/africa/senegal?page=day#date=2024-08-19\" onClick=\"gtag(\\'event\\', \\'Click on calendar day\\', {\\'event_category\\' :\\'Click on calendar day\\', \\'event_action\\' :\\'d:19 m:8\\'})\" title=\"m\\xc3\\xa9t\\xc3\\xa9o 19 ao\\xc3\\xbbt 2024\" class=\"calendar_day\"> <div class=\"calendar_day_day\">19</div> <img width=\"34\" height=\"34\" alt=\"Nuageux\" title=\"Nuageux\" class=\"lazy calendar_day_image\" data-src=\"https://res.meteoart.com/images/weather_icons/new/day/cloud.svg\" /> <div class=\"calendar_day_degree\"> <span class=\"max-degree\"><span data-temp=\"28\">28</span><span class=\"degree_sign\">\\xc2\\xb0</span></span> <span class=\"min-degree\">/<span data-temp=\"27\">27</span><span class=\"degree_sign\">\\xc2\\xb0</span></span> </div> </a></td><td><a href=\"https://www.meteoart.com/africa/senegal?page=past-weather#day=20&month=8\" onClick=\"gtag(\\'event\\', \\'Click on calendar day\\', {\\'event_category\\' :\\'Click on calendar day\\', \\'event_action\\' :\\'d:20 m:8\\'})\" title=\"m\\xc3\\xa9t\\xc3\\xa9o 20 ao\\xc3\\xbbt 2024\" class=\"calendar_day\"> <div class=\"calendar_day_day\">20</div> <img width=\"34\" height=\"34\" alt=\"Averse de pluie mod\\xc3\\xa9r\\xc3\\xa9e\" title=\"Averse de pluie mod\\xc3\\xa9r\\xc3\\xa9e\" class=\"lazy calendar_day_image\" data-src=\"https://res.meteoart.com/images/weather_icons/new/day/rain-3.svg\" /> <div class=\"calendar_day_degree\"> <span class=\"max-degree\"><span data-temp=\"27\">27</span><span class=\"degree_sign\">\\xc2\\xb0</span></span> <span class=\"min-degree\">/<span data-temp=\"23\">23</span><span class=\"degree_sign\">\\xc2\\xb0</span></span> </div> </a></td><td><a href=\"https://www.meteoart.com/africa/senegal?page=past-weather#day=21&month=8\" onClick=\"gtag(\\'event\\', \\'Click on calendar day\\', {\\'event_category\\' :\\'Click on calendar day\\', \\'event_action\\' :\\'d:21 m:8\\'})\" title=\"m\\xc3\\xa9t\\xc3\\xa9o 21 ao\\xc3\\xbbt 2024\" class=\"calendar_day\"> <div class=\"calendar_day_day\">21</div> <img width=\"34\" height=\"34\" alt=\"Risques de pluie \\xc3\\xa9parse\" title=\"Risques de pluie \\xc3\\xa9parse\" class=\"lazy calendar_day_image\" data-src=\"https://res.meteoart.com/images/weather_icons/new/day/rain-interval-2.svg\" /> <div class=\"calendar_day_degree\"> <span class=\"max-degree\"><span data-temp=\"28\">28</span><span class=\"degree_sign\">\\xc2\\xb0</span></span> <span class=\"min-degree\">/<span data-temp=\"24\">24</span><span class=\"degree_sign\">\\xc2\\xb0</span></span> </div> </a></td><td><a href=\"https://www.meteoart.com/africa/senegal?page=past-weather#day=22&month=8\" onClick=\"gtag(\\'event\\', \\'Click on calendar day\\', {\\'event_category\\' :\\'Click on calendar day\\', \\'event_action\\' :\\'d:22 m:8\\'})\" title=\"m\\xc3\\xa9t\\xc3\\xa9o 22 ao\\xc3\\xbbt 2024\" class=\"calendar_day\"> <div class=\"calendar_day_day\">22</div> <img width=\"34\" height=\"34\" alt=\"Nuageux\" title=\"Nuageux\" class=\"lazy calendar_day_image\" data-src=\"https://res.meteoart.com/images/weather_icons/new/day/cloud.svg\" /> <div class=\"calendar_day_degree\"> <span class=\"max-degree\"><span data-temp=\"28\">28</span><span class=\"degree_sign\">\\xc2\\xb0</span></span> <span class=\"min-degree\">/<span data-temp=\"24\">24</span><span class=\"degree_sign\">\\xc2\\xb0</span></span> </div> </a></td><td><a href=\"https://www.meteoart.com/africa/senegal?page=past-weather#day=23&month=8\" onClick=\"gtag(\\'event\\', \\'Click on calendar day\\', {\\'event_category\\' :\\'Click on calendar day\\', \\'event_action\\' :\\'d:23 m:8\\'})\" title=\"m\\xc3\\xa9t\\xc3\\xa9o 23 ao\\xc3\\xbbt 2024\" class=\"calendar_day\"> <div class=\"calendar_day_day\">23</div> <img width=\"34\" height=\"34\" alt=\"Nuageux\" title=\"Nuageux\" class=\"lazy calendar_day_image\" data-src=\"https://res.meteoart.com/images/weather_icons/new/day/cloud.svg\" /> <div class=\"calendar_day_degree\"> <span class=\"max-degree\"><span data-temp=\"28\">28</span><span class=\"degree_sign\">\\xc2\\xb0</span></span> <span class=\"min-degree\">/<span data-temp=\"25\">25</span><span class=\"degree_sign\">\\xc2\\xb0</span></span> </div> </a></td><td><a href=\"https://www.meteoart.com/africa/senegal?page=past-weather#day=24&month=8\" onClick=\"gtag(\\'event\\', \\'Click on calendar day\\', {\\'event_category\\' :\\'Click on calendar day\\', \\'event_action\\' :\\'d:24 m:8\\'})\" title=\"m\\xc3\\xa9t\\xc3\\xa9o 24 ao\\xc3\\xbbt 2024\" class=\"calendar_day\"> <div class=\"calendar_day_day\">24</div> <img width=\"34\" height=\"34\" alt=\"Pluie mod\\xc3\\xa9r\\xc3\\xa9e par moments\" title=\"Pluie mod\\xc3\\xa9r\\xc3\\xa9e par moments\" class=\"lazy calendar_day_image\" data-src=\"https://res.meteoart.com/images/weather_icons/new/day/rain-interval-3.svg\" /> <div class=\"calendar_day_degree\"> <span class=\"max-degree\"><span data-temp=\"28\">28</span><span class=\"degree_sign\">\\xc2\\xb0</span></span> <span class=\"min-degree\">/<span data-temp=\"24\">24</span><span class=\"degree_sign\">\\xc2\\xb0</span></span> </div> </a></td><td><a href=\"https://www.meteoart.com/africa/senegal?page=past-weather#day=25&month=8\" onClick=\"gtag(\\'event\\', \\'Click on calendar day\\', {\\'event_category\\' :\\'Click on calendar day\\', \\'event_action\\' :\\'d:25 m:8\\'})\" title=\"m\\xc3\\xa9t\\xc3\\xa9o 25 ao\\xc3\\xbbt 2024\" class=\"calendar_day\"> <div class=\"calendar_day_day\">25</div> <img width=\"34\" height=\"34\" alt=\"Averse de pluie mod\\xc3\\xa9r\\xc3\\xa9e\" title=\"Averse de pluie mod\\xc3\\xa9r\\xc3\\xa9e\" class=\"lazy calendar_day_image\" data-src=\"https://res.meteoart.com/images/weather_icons/new/day/rain-3.svg\" /> <div class=\"calendar_day_degree\"> <span class=\"max-degree\"><span data-temp=\"28\">28</span><span class=\"degree_sign\">\\xc2\\xb0</span></span> <span class=\"min-degree\">/<span data-temp=\"25\">25</span><span class=\"degree_sign\">\\xc2\\xb0</span></span> </div> </a></td></tr><tr><td><a href=\"https://www.meteoart.com/africa/senegal?page=past-weather#day=26&month=8\" onClick=\"gtag(\\'event\\', \\'Click on calendar day\\', {\\'event_category\\' :\\'Click on calendar day\\', \\'event_action\\' :\\'d:26 m:8\\'})\" title=\"m\\xc3\\xa9t\\xc3\\xa9o 26 ao\\xc3\\xbbt 2024\" class=\"calendar_day\"> <div class=\"calendar_day_day\">26</div> <img width=\"34\" height=\"34\" alt=\"Risques de pluie \\xc3\\xa9parse\" title=\"Risques de pluie \\xc3\\xa9parse\" class=\"lazy calendar_day_image\" data-src=\"https://res.meteoart.com/images/weather_icons/new/day/rain-interval-2.svg\" /> <div class=\"calendar_day_degree\"> <span class=\"max-degree\"><span data-temp=\"29\">29</span><span class=\"degree_sign\">\\xc2\\xb0</span></span> <span class=\"min-degree\">/<span data-temp=\"25\">25</span><span class=\"degree_sign\">\\xc2\\xb0</span></span> </div> </a></td><td><a href=\"https://www.meteoart.com/africa/senegal?page=past-weather#day=27&month=8\" onClick=\"gtag(\\'event\\', \\'Click on calendar day\\', {\\'event_category\\' :\\'Click on calendar day\\', \\'event_action\\' :\\'d:27 m:8\\'})\" title=\"m\\xc3\\xa9t\\xc3\\xa9o 27 ao\\xc3\\xbbt 2024\" class=\"calendar_day\"> <div class=\"calendar_day_day\">27</div> <img width=\"34\" height=\"34\" alt=\"Nuageux\" title=\"Nuageux\" class=\"lazy calendar_day_image\" data-src=\"https://res.meteoart.com/images/weather_icons/new/day/cloud.svg\" /> <div class=\"calendar_day_degree\"> <span class=\"max-degree\"><span data-temp=\"28\">28</span><span class=\"degree_sign\">\\xc2\\xb0</span></span> <span class=\"min-degree\">/<span data-temp=\"25\">25</span><span class=\"degree_sign\">\\xc2\\xb0</span></span> </div> </a></td><td><a href=\"https://www.meteoart.com/africa/senegal?page=past-weather#day=28&month=8\" onClick=\"gtag(\\'event\\', \\'Click on calendar day\\', {\\'event_category\\' :\\'Click on calendar day\\', \\'event_action\\' :\\'d:28 m:8\\'})\" title=\"m\\xc3\\xa9t\\xc3\\xa9o 28 ao\\xc3\\xbbt 2024\" class=\"calendar_day\"> <div class=\"calendar_day_day\">28</div> <img width=\"34\" height=\"34\" alt=\"Averse de pluie l\\xc3\\xa9g\\xc3\\xa8re\" title=\"Averse de pluie l\\xc3\\xa9g\\xc3\\xa8re\" class=\"lazy calendar_day_image\" data-src=\"https://res.meteoart.com/images/weather_icons/new/day/rain-2.svg\" /> <div class=\"calendar_day_degree\"> <span class=\"max-degree\"><span data-temp=\"28\">28</span><span class=\"degree_sign\">\\xc2\\xb0</span></span> <span class=\"min-degree\">/<span data-temp=\"25\">25</span><span class=\"degree_sign\">\\xc2\\xb0</span></span> </div> </a></td><td><a href=\"https://www.meteoart.com/africa/senegal?page=past-weather#day=29&month=8\" onClick=\"gtag(\\'event\\', \\'Click on calendar day\\', {\\'event_category\\' :\\'Click on calendar day\\', \\'event_action\\' :\\'d:29 m:8\\'})\" title=\"m\\xc3\\xa9t\\xc3\\xa9o 29 ao\\xc3\\xbbt 2024\" class=\"calendar_day\"> <div class=\"calendar_day_day\">29</div> <img width=\"34\" height=\"34\" alt=\"Nuageux\" title=\"Nuageux\" class=\"lazy calendar_day_image\" data-src=\"https://res.meteoart.com/images/weather_icons/new/day/cloud.svg\" /> <div class=\"calendar_day_degree\"> <span class=\"max-degree\"><span data-temp=\"28\">28</span><span class=\"degree_sign\">\\xc2\\xb0</span></span> <span class=\"min-degree\">/<span data-temp=\"24\">24</span><span class=\"degree_sign\">\\xc2\\xb0</span></span> </div> </a></td><td><a href=\"https://www.meteoart.com/africa/senegal?page=past-weather#day=30&month=8\" onClick=\"gtag(\\'event\\', \\'Click on calendar day\\', {\\'event_category\\' :\\'Click on calendar day\\', \\'event_action\\' :\\'d:30 m:8\\'})\" title=\"m\\xc3\\xa9t\\xc3\\xa9o 30 ao\\xc3\\xbbt 2024\" class=\"calendar_day\"> <div class=\"calendar_day_day\">30</div> <img width=\"34\" height=\"34\" alt=\"Risques de pluie \\xc3\\xa9parse\" title=\"Risques de pluie \\xc3\\xa9parse\" class=\"lazy calendar_day_image\" data-src=\"https://res.meteoart.com/images/weather_icons/new/day/rain-interval-2.svg\" /> <div class=\"calendar_day_degree\"> <span class=\"max-degree\"><span data-temp=\"29\">29</span><span class=\"degree_sign\">\\xc2\\xb0</span></span> <span class=\"min-degree\">/<span data-temp=\"26\">26</span><span class=\"degree_sign\">\\xc2\\xb0</span></span> </div> </a></td><td><a href=\"https://www.meteoart.com/africa/senegal?page=past-weather#day=31&month=8\" onClick=\"gtag(\\'event\\', \\'Click on calendar day\\', {\\'event_category\\' :\\'Click on calendar day\\', \\'event_action\\' :\\'d:31 m:8\\'})\" title=\"m\\xc3\\xa9t\\xc3\\xa9o 31 ao\\xc3\\xbbt 2024\" class=\"calendar_day\"> <div class=\"calendar_day_day\">31</div> <img width=\"34\" height=\"34\" alt=\"Averse de pluie l\\xc3\\xa9g\\xc3\\xa8re\" title=\"Averse de pluie l\\xc3\\xa9g\\xc3\\xa8re\" class=\"lazy calendar_day_image\" data-src=\"https://res.meteoart.com/images/weather_icons/new/day/rain-2.svg\" /> <div class=\"calendar_day_degree\"> <span class=\"max-degree\"><span data-temp=\"29\">29</span><span class=\"degree_sign\">\\xc2\\xb0</span></span> <span class=\"min-degree\">/<span data-temp=\"24\">24</span><span class=\"degree_sign\">\\xc2\\xb0</span></span> </div> </a></td><td><div class=\"calendar_day empty\"></div></td></tr></tbody></table> </div> <div class=\"click-on-bellow\" id=\"click-on-bellow\">Cliquez sur une journ\\xc3\\xa9e pour plus de d\\xc3\\xa9tails</div> </div> </div> </div> <div class=\"desktop-right-section\"> <div class=\"sky_ad\" style=\"margin-top: 56px\"> <ins class=\"adsbygoogle\" style=\"display:inline-block;width:300px;height:600px\" data-ad-client=\"ca-pub-0206751604021858\" data-ad-slot=\"8141506215\"></ins> <script> (adsbygoogle = window.adsbygoogle || []).push({}); </script> </div> </div> </div> <div class=\"section-wrap section-wrap-with-background all-month-wrap\"> <div class=\"inner-section-wrap\"> <h2 class=\"section-header\">Consultez la m\\xc3\\xa9t\\xc3\\xa9o d\\'autres mois au S\\xc3\\xa9n\\xc3\\xa9gal</h2> <div class=\"section-content all-month-list\"> <a href=\"https://www.meteoart.com/africa/senegal?page=month&month=January\" onClick=\"gtag(\\'event\\', \\'click on month on month page\\', {\\'event_category\\' : \\'click on month on month page\\', \\'event_action\\' : \\'January\\'})\" class=\"month-button\"><div class=\"month-index\">01</div><div class=\"month-name\">janvier</div></a><a href=\"https://www.meteoart.com/africa/senegal?page=month&month=February\" onClick=\"gtag(\\'event\\', \\'click on month on month page\\', {\\'event_category\\' : \\'click on month on month page\\', \\'event_action\\' : \\'February\\'})\" class=\"month-button\"><div class=\"month-index\">02</div><div class=\"month-name\">f\\xc3\\xa9vrier</div></a><a href=\"https://www.meteoart.com/africa/senegal?page=month&month=March\" onClick=\"gtag(\\'event\\', \\'click on month on month page\\', {\\'event_category\\' : \\'click on month on month page\\', \\'event_action\\' : \\'March\\'})\" class=\"month-button\"><div class=\"month-index\">03</div><div class=\"month-name\">mars</div></a><a href=\"https://www.meteoart.com/africa/senegal?page=month&month=April\" onClick=\"gtag(\\'event\\', \\'click on month on month page\\', {\\'event_category\\' : \\'click on month on month page\\', \\'event_action\\' : \\'April\\'})\" class=\"month-button\"><div class=\"month-index\">04</div><div class=\"month-name\">avril</div></a><a href=\"https://www.meteoart.com/africa/senegal?page=month&month=May\" onClick=\"gtag(\\'event\\', \\'click on month on month page\\', {\\'event_category\\' : \\'click on month on month page\\', \\'event_action\\' : \\'May\\'})\" class=\"month-button\"><div class=\"month-index\">05</div><div class=\"month-name\">mai</div></a><a href=\"https://www.meteoart.com/africa/senegal?page=month&month=June\" onClick=\"gtag(\\'event\\', \\'click on month on month page\\', {\\'event_category\\' : \\'click on month on month page\\', \\'event_action\\' : \\'June\\'})\" class=\"month-button\"><div class=\"month-index\">06</div><div class=\"month-name\">juin</div></a><a href=\"https://www.meteoart.com/africa/senegal?page=month&month=July\" onClick=\"gtag(\\'event\\', \\'click on month on month page\\', {\\'event_category\\' : \\'click on month on month page\\', \\'event_action\\' : \\'July\\'})\" class=\"month-button\"><div class=\"month-index\">07</div><div class=\"month-name\">juillet</div></a><a href=\"https://www.meteoart.com/africa/senegal?page=month&month=August\" onClick=\"gtag(\\'event\\', \\'click on month on month page\\', {\\'event_category\\' : \\'click on month on month page\\', \\'event_action\\' : \\'August\\'})\" class=\"month-button\"><div class=\"month-index\">08</div><div class=\"month-name\">ao\\xc3\\xbbt</div></a><a href=\"https://www.meteoart.com/africa/senegal?page=month&month=September\" onClick=\"gtag(\\'event\\', \\'click on month on month page\\', {\\'event_category\\' : \\'click on month on month page\\', \\'event_action\\' : \\'September\\'})\" class=\"month-button\"><div class=\"month-index\">09</div><div class=\"month-name\">septembre</div></a><a href=\"https://www.meteoart.com/africa/senegal?page=month&month=October\" onClick=\"gtag(\\'event\\', \\'click on month on month page\\', {\\'event_category\\' : \\'click on month on month page\\', \\'event_action\\' : \\'October\\'})\" class=\"month-button\"><div class=\"month-index\">10</div><div class=\"month-name\">octobre</div></a><a href=\"https://www.meteoart.com/africa/senegal?page=month&month=November\" onClick=\"gtag(\\'event\\', \\'click on month on month page\\', {\\'event_category\\' : \\'click on month on month page\\', \\'event_action\\' : \\'November\\'})\" class=\"month-button\"><div class=\"month-index\">11</div><div class=\"month-name\">novembre</div></a><a href=\"https://www.meteoart.com/africa/senegal?page=month&month=December\" onClick=\"gtag(\\'event\\', \\'click on month on month page\\', {\\'event_category\\' : \\'click on month on month page\\', \\'event_action\\' : \\'December\\'})\" class=\"month-button\"><div class=\"month-index\">12</div><div class=\"month-name\">d\\xc3\\xa9cembre</div></a> </div></div></div> <section class=\"section-wrap\" id=\"months_table\" itemscope itemtype=\"http://schema.org/Table\"> <h2 class=\"section-header\" itemprop=\"about\">M\\xc3\\xa9t\\xc3\\xa9o annuelle au S\\xc3\\xa9n\\xc3\\xa9gal</h2> <div class=\"months_table_wrap section-content\"> <table class=\"month_data_table\"> <thead> <tr> <th class=\"table_month_name\">Mois</th> <th>Temp\\xc3\\xa9ratures</th> <th>Jours de pluie</th> <th>Jours secs</th> <th>Jours enneig\\xc3\\xa9s</th> <th>Moy. pr\\xc3\\xa9cipitations</th> <th>M\\xc3\\xa9t\\xc3\\xa9o</th> <th class=\"last-column\">Plus de d\\xc3\\xa9tails</th> </tr> </thead> <tbody> <tr class=\"score5\"> <td class=\"table_month_name\">janvier</td> <td><b><span class=\"temp\" data-temp=\"28\">28</span>\\xc2\\xb0</b> / <span class=\"temp\" data-temp=\"21\">21</span>\\xc2\\xb0</td> <td>0</td> <td>31</td> <td>0</td> <td><span data-length=\"0\">0</span> <span class=\"table_mm length_unit\">mm</span></td> <td><div class=\"month_score score5\">Parfaite</div></td> <td class=\"table_month_link\"><a href=\"https://www.meteoart.com/africa/senegal?page=month&month=January\">S\\xc3\\xa9n\\xc3\\xa9gal en janvier</a></td> </tr> <tr class=\"score5\"> <td class=\"table_month_name\">f\\xc3\\xa9vrier</td> <td><b><span class=\"temp\" data-temp=\"27\">27</span>\\xc2\\xb0</b> / <span class=\"temp\" data-temp=\"21\">21</span>\\xc2\\xb0</td> <td>0</td> <td>28</td> <td>0</td> <td><span data-length=\"0\">0</span> <span class=\"table_mm length_unit\">mm</span></td> <td><div class=\"month_score score5\">Parfaite</div></td> <td class=\"table_month_link\"><a href=\"https://www.meteoart.com/africa/senegal?page=month&month=February\">S\\xc3\\xa9n\\xc3\\xa9gal en f\\xc3\\xa9vrier</a></td> </tr> <tr class=\"score5\"> <td class=\"table_month_name\">mars</td> <td><b><span class=\"temp\" data-temp=\"27\">27</span>\\xc2\\xb0</b> / <span class=\"temp\" data-temp=\"20\">20</span>\\xc2\\xb0</td> <td>0</td> <td>31</td> <td>0</td> <td><span data-length=\"1\">1</span> <span class=\"table_mm length_unit\">mm</span></td> <td><div class=\"month_score score5\">Parfaite</div></td> <td class=\"table_month_link\"><a href=\"https://www.meteoart.com/africa/senegal?page=month&month=March\">S\\xc3\\xa9n\\xc3\\xa9gal en mars</a></td> </tr> <tr class=\"score5\"> <td class=\"table_month_name\">avril</td> <td><b><span class=\"temp\" data-temp=\"27\">27</span>\\xc2\\xb0</b> / <span class=\"temp\" data-temp=\"21\">21</span>\\xc2\\xb0</td> <td>0</td> <td>30</td> <td>0</td> <td><span data-length=\"2\">2</span> <span class=\"table_mm length_unit\">mm</span></td> <td><div class=\"month_score score5\">Parfaite</div></td> <td class=\"table_month_link\"><a href=\"https://www.meteoart.com/africa/senegal?page=month&month=April\">S\\xc3\\xa9n\\xc3\\xa9gal en avril</a></td> </tr> <tr class=\"score5\"> <td class=\"table_month_name\">mai</td> <td><b><span class=\"temp\" data-temp=\"27\">27</span>\\xc2\\xb0</b> / <span class=\"temp\" data-temp=\"22\">22</span>\\xc2\\xb0</td> <td>0</td> <td>31</td> <td>0</td> <td><span data-length=\"5\">5</span> <span class=\"table_mm length_unit\">mm</span></td> <td><div class=\"month_score score5\">Parfaite</div></td> <td class=\"table_month_link\"><a href=\"https://www.meteoart.com/africa/senegal?page=month&month=May\">S\\xc3\\xa9n\\xc3\\xa9gal en mai</a></td> </tr> <tr class=\"score5\"> <td class=\"table_month_name\">juin</td> <td><b><span class=\"temp\" data-temp=\"28\">28</span>\\xc2\\xb0</b> / <span class=\"temp\" data-temp=\"24\">24</span>\\xc2\\xb0</td> <td>1</td> <td>29</td> <td>0</td> <td><span data-length=\"21\">21</span> <span class=\"table_mm length_unit\">mm</span></td> <td><div class=\"month_score score5\">Parfaite</div></td> <td class=\"table_month_link\"><a href=\"https://www.meteoart.com/africa/senegal?page=month&month=June\">S\\xc3\\xa9n\\xc3\\xa9gal en juin</a></td> </tr> <tr class=\"score4\"> <td class=\"table_month_name\">juillet</td> <td><b><span class=\"temp\" data-temp=\"29\">29</span>\\xc2\\xb0</b> / <span class=\"temp\" data-temp=\"26\">26</span>\\xc2\\xb0</td> <td>3</td> <td>28</td> <td>0</td> <td><span data-length=\"57\">57</span> <span class=\"table_mm length_unit\">mm</span></td> <td><div class=\"month_score score4\">Bonne</div></td> <td class=\"table_month_link\"><a href=\"https://www.meteoart.com/africa/senegal?page=month&month=July\">S\\xc3\\xa9n\\xc3\\xa9gal en juillet</a></td> </tr> <tr class=\"score3\"> <td class=\"table_month_name\">ao\\xc3\\xbbt</td> <td><b><span class=\"temp\" data-temp=\"29\">29</span>\\xc2\\xb0</b> / <span class=\"temp\" data-temp=\"26\">26</span>\\xc2\\xb0</td> <td>7</td> <td>24</td> <td>0</td> <td><span data-length=\"177\">177</span> <span class=\"table_mm length_unit\">mm</span></td> <td><div class=\"month_score score3\">OK</div></td> <td class=\"table_month_link\"><a href=\"https://www.meteoart.com/africa/senegal?page=month&month=August\">S\\xc3\\xa9n\\xc3\\xa9gal en ao\\xc3\\xbbt</a></td> </tr> <tr class=\"score3\"> <td class=\"table_month_name\">septembre</td> <td><b><span class=\"temp\" data-temp=\"30\">30</span>\\xc2\\xb0</b> / <span class=\"temp\" data-temp=\"27\">27</span>\\xc2\\xb0</td> <td>8</td> <td>22</td> <td>0</td> <td><span data-length=\"145\">145</span> <span class=\"table_mm length_unit\">mm</span></td> <td><div class=\"month_score score3\">OK</div></td> <td class=\"table_month_link\"><a href=\"https://www.meteoart.com/africa/senegal?page=month&month=September\">S\\xc3\\xa9n\\xc3\\xa9gal en septembre</a></td> </tr> <tr class=\"score4\"> <td class=\"table_month_name\">octobre</td> <td><b><span class=\"temp\" data-temp=\"32\">32</span>\\xc2\\xb0</b> / <span class=\"temp\" data-temp=\"27\">27</span>\\xc2\\xb0</td> <td>2</td> <td>29</td> <td>0</td> <td><span data-length=\"31\">31</span> <span class=\"table_mm length_unit\">mm</span></td> <td><div class=\"month_score score4\">Bonne</div></td> <td class=\"table_month_link\"><a href=\"https://www.meteoart.com/africa/senegal?page=month&month=October\">S\\xc3\\xa9n\\xc3\\xa9gal en octobre</a></td> </tr> <tr class=\"score4\"> <td class=\"table_month_name\">novembre</td> <td><b><span class=\"temp\" data-temp=\"31\">31</span>\\xc2\\xb0</b> / <span class=\"temp\" data-temp=\"26\">26</span>\\xc2\\xb0</td> <td>0</td> <td>30</td> <td>0</td> <td><span data-length=\"3\">3</span> <span class=\"table_mm length_unit\">mm</span></td> <td><div class=\"month_score score4\">Bonne</div></td> <td class=\"table_month_link\"><a href=\"https://www.meteoart.com/africa/senegal?page=month&month=November\">S\\xc3\\xa9n\\xc3\\xa9gal en novembre</a></td> </tr> <tr class=\"score4\"> <td class=\"table_month_name\">d\\xc3\\xa9cembre</td> <td><b><span class=\"temp\" data-temp=\"30\">30</span>\\xc2\\xb0</b> / <span class=\"temp\" data-temp=\"23\">23</span>\\xc2\\xb0</td> <td>0</td> <td>31</td> <td>0</td> <td><span data-length=\"1\">1</span> <span class=\"table_mm length_unit\">mm</span></td> <td><div class=\"month_score score4\">Bonne</div></td> <td class=\"table_month_link\"><a href=\"https://www.meteoart.com/africa/senegal?page=month&month=December\">S\\xc3\\xa9n\\xc3\\xa9gal en d\\xc3\\xa9cembre</a></td> </tr> </tbody></table></div></section> <div class=\"graphs-wrap section-wrap\"> <div class=\"graph-wrap\" id> <div class=\"section-header\">Temp\\xc3\\xa9ratures au S\\xc3\\xa9n\\xc3\\xa9gal en ao\\xc3\\xbbt - graphique m\\xc3\\xa9t\\xc3\\xa9o</div> <div class=\"section-content\"> <div class=\"canvas-wrap\"> <div class=\"canvas-inner-wrap\"> <canvas id=\"monthTempChart\" class=\"month_chart\" width=\"710\" height=\"280\"></canvas></div> </div> </div> </div> <div class=\"graph-wrap\" id> <div class=\"section-header\">Pr\\xc3\\xa9cipitations au S\\xc3\\xa9n\\xc3\\xa9gal en ao\\xc3\\xbbt - carte m\\xc3\\xa9t\\xc3\\xa9o</div> <div class=\"section-content\"> <div class=\"canvas-wrap\"> <div class=\"canvas-inner-wrap\"> <canvas id=\"monthRainChart\" class=\"month_chart\" width=\"710\" height=\"280\"></canvas></div> </div> </div> </div> </div> <div class=\"section-wrap hotels-section\" id=\"best-hotels\"><h2 class=\"section-header\">H\\xc3\\xb4tels recommand\\xc3\\xa9s au S\\xc3\\xa9n\\xc3\\xa9gal</h2><div class=\"hotels-text-and-button\"> <div class=\"hotels_text section-sub-header\">Trouver l\\'h\\xc3\\xb4tel id\\xc3\\xa9al au S\\xc3\\xa9n\\xc3\\xa9gal peut \\xc3\\xaatre une t\\xc3\\xa2che difficile, nous le savons...<br/>C\\'est pourquoi nous vous avons s\\xc3\\xa9lectionn\\xc3\\xa9 les meilleurs h\\xc3\\xb4tels possibles au S\\xc3\\xa9n\\xc3\\xa9gal. Cliquez sur un h\\xc3\\xb4tel pour plus de d\\xc3\\xa9tails.</div> <a href=\"?page=hotels\" onClick=\"gtag(\\'event\\', \\'Go to hotel page\\', {\\'event_category\\' : \\'Go to hotel page\\', \\'event_action\\' : \\'click on all hotels button\\',\\'event_label\\' : \\'S\\xc3\\xa9n\\xc3\\xa9gal\\'});\"> <button class=\"general_button button_two button-with-arrow all-hotels\">H\\xc3\\xb4tels au S\\xc3\\xa9n\\xc3\\xa9gal</button> </a> </div> <div class=\"hotels_inner_wrap\"> <a href=\"https://www.booking.com/hotel/sn/radisson-dakar-diamniadio.fr.html?aid=1178043&label=meteoart\" target=\"_blank\" rel=\"noopener nofollow\" onClick=\"gtag(\\'event\\', \\'Go to booking\\', {\\'event_category\\' : \\'Go to booking\\', \\'event_action\\' : \\'5\\',\\'event_label\\' : \\'S\\xc3\\xa9n\\xc3\\xa9gal\\'});\"> <div class=\"hotel_item_wrap\"> <div class=\"hotel_img_wrap\"><img width=\"260\" height=\"150\" class=\"lazy\" src data-src=\"https://cf.bstatic.com/xdata/images/hotel/270x200/232848540.webp?k=e0190984d2dfb2e37109dcc6f81e82bc99161c55558d9d0f9c5008fa40cefc87&o=\" alt=\"H\\xc3\\xb4tel 5 \\xc3\\xa9toiles au S\\xc3\\xa9n\\xc3\\xa9gal\" title=\"H\\xc3\\xb4tel 5 \\xc3\\xa9toiles au S\\xc3\\xa9n\\xc3\\xa9gal\" /></div> <div class=\"hotel_details\"> <div class=\"hotel_rate\"><div class=\"stars_wrap\"><img class=\"lazy\" width=\"16\" height=\"15\" src data-src=\"https://res.meteoart.com/images/icons/star.svg\" alt=\"star de l\\'h\\xc3\\xb4tel\" title=\"star de l\\'h\\xc3\\xb4tel\" /><img class=\"lazy\" width=\"16\" height=\"15\" src data-src=\"https://res.meteoart.com/images/icons/star.svg\" alt=\"star de l\\'h\\xc3\\xb4tel\" title=\"star de l\\'h\\xc3\\xb4tel\" /><img class=\"lazy\" width=\"16\" height=\"15\" src data-src=\"https://res.meteoart.com/images/icons/star.svg\" alt=\"star de l\\'h\\xc3\\xb4tel\" title=\"star de l\\'h\\xc3\\xb4tel\" /><img class=\"lazy\" width=\"16\" height=\"15\" src data-src=\"https://res.meteoart.com/images/icons/star.svg\" alt=\"star de l\\'h\\xc3\\xb4tel\" title=\"star de l\\'h\\xc3\\xb4tel\" /><img class=\"lazy\" width=\"16\" height=\"15\" src data-src=\"https://res.meteoart.com/images/icons/star.svg\" alt=\"star de l\\'h\\xc3\\xb4tel\" title=\"star de l\\'h\\xc3\\xb4tel\" /><div class=\"clear\"></div></div></div> <div class=\"hotel_name\">Radisson Hotel Dakar Diamniadio </div> <div class=\"link-button button-with-arrow\">R\\xc3\\xa9servez</div> </div> </div> </a><a href=\"https://www.booking.com/hotel/sn/terrou-bi.fr.html?aid=1178043&label=meteoart\" target=\"_blank\" rel=\"noopener nofollow\" onClick=\"gtag(\\'event\\', \\'Go to booking\\', {\\'event_category\\' : \\'Go to booking\\', \\'event_action\\' : \\'5\\',\\'event_label\\' : \\'S\\xc3\\xa9n\\xc3\\xa9gal\\'});\"> <div class=\"hotel_item_wrap\"> <div class=\"hotel_img_wrap\"><img width=\"260\" height=\"150\" class=\"lazy\" src data-src=\"https://cf.bstatic.com/xdata/images/hotel/270x200/33075123.webp?k=3b303bd03bb27ba0abca5628725d720d1eea289ff29d32fb23aac71c0ea3f476&o=\" alt=\"H\\xc3\\xb4tel 5 \\xc3\\xa9toiles au S\\xc3\\xa9n\\xc3\\xa9gal\" title=\"H\\xc3\\xb4tel 5 \\xc3\\xa9toiles au S\\xc3\\xa9n\\xc3\\xa9gal\" /></div> <div class=\"hotel_details\"> <div class=\"hotel_rate\"><div class=\"stars_wrap\"><img class=\"lazy\" width=\"16\" height=\"15\" src data-src=\"https://res.meteoart.com/images/icons/star.svg\" alt=\"star de l\\'h\\xc3\\xb4tel\" title=\"star de l\\'h\\xc3\\xb4tel\" /><img class=\"lazy\" width=\"16\" height=\"15\" src data-src=\"https://res.meteoart.com/images/icons/star.svg\" alt=\"star de l\\'h\\xc3\\xb4tel\" title=\"star de l\\'h\\xc3\\xb4tel\" /><img class=\"lazy\" width=\"16\" height=\"15\" src data-src=\"https://res.meteoart.com/images/icons/star.svg\" alt=\"star de l\\'h\\xc3\\xb4tel\" title=\"star de l\\'h\\xc3\\xb4tel\" /><img class=\"lazy\" width=\"16\" height=\"15\" src data-src=\"https://res.meteoart.com/images/icons/star.svg\" alt=\"star de l\\'h\\xc3\\xb4tel\" title=\"star de l\\'h\\xc3\\xb4tel\" /><img class=\"lazy\" width=\"16\" height=\"15\" src data-src=\"https://res.meteoart.com/images/icons/star.svg\" alt=\"star de l\\'h\\xc3\\xb4tel\" title=\"star de l\\'h\\xc3\\xb4tel\" /><div class=\"clear\"></div></div></div> <div class=\"hotel_name\">Terrou-Bi </div> <div class=\"link-button button-with-arrow\">R\\xc3\\xa9servez</div> </div> </div> </a><a href=\"https://www.booking.com/hotel/sn/dakar-teranga.fr.html?aid=1178043&label=meteoart\" target=\"_blank\" rel=\"noopener nofollow\" onClick=\"gtag(\\'event\\', \\'Go to booking\\', {\\'event_category\\' : \\'Go to booking\\', \\'event_action\\' : \\'5\\',\\'event_label\\' : \\'S\\xc3\\xa9n\\xc3\\xa9gal\\'});\"> <div class=\"hotel_item_wrap\"> <div class=\"hotel_img_wrap\"><img width=\"260\" height=\"150\" class=\"lazy\" src data-src=\"https://cf.bstatic.com/xdata/images/hotel/270x200/149365809.webp?k=c023744b8ec5253df295d5cfbc03690b0a802796fdacb81e652a7c832b72a11c&o=\" alt=\"H\\xc3\\xb4tel 5 \\xc3\\xa9toiles au S\\xc3\\xa9n\\xc3\\xa9gal\" title=\"H\\xc3\\xb4tel 5 \\xc3\\xa9toiles au S\\xc3\\xa9n\\xc3\\xa9gal\" /></div> <div class=\"hotel_details\"> <div class=\"hotel_rate\"><div class=\"stars_wrap\"><img class=\"lazy\" width=\"16\" height=\"15\" src data-src=\"https://res.meteoart.com/images/icons/star.svg\" alt=\"star de l\\'h\\xc3\\xb4tel\" title=\"star de l\\'h\\xc3\\xb4tel\" /><img class=\"lazy\" width=\"16\" height=\"15\" src data-src=\"https://res.meteoart.com/images/icons/star.svg\" alt=\"star de l\\'h\\xc3\\xb4tel\" title=\"star de l\\'h\\xc3\\xb4tel\" /><img class=\"lazy\" width=\"16\" height=\"15\" src data-src=\"https://res.meteoart.com/images/icons/star.svg\" alt=\"star de l\\'h\\xc3\\xb4tel\" title=\"star de l\\'h\\xc3\\xb4tel\" /><img class=\"lazy\" width=\"16\" height=\"15\" src data-src=\"https://res.meteoart.com/images/icons/star.svg\" alt=\"star de l\\'h\\xc3\\xb4tel\" title=\"star de l\\'h\\xc3\\xb4tel\" /><img class=\"lazy\" width=\"16\" height=\"15\" src data-src=\"https://res.meteoart.com/images/icons/star.svg\" alt=\"star de l\\'h\\xc3\\xb4tel\" title=\"star de l\\'h\\xc3\\xb4tel\" /><div class=\"clear\"></div></div></div> <div class=\"hotel_name\">Pullman Dakar Teranga </div> <div class=\"link-button button-with-arrow\">R\\xc3\\xa9servez</div> </div> </div> </a></div> </div> <div id class=\"section-wrap-with-background faq-wrap month-faq section-wrap\"><div class=\"inner-section-wrap\" itemscope itemtype=\"https://schema.org/FAQPage\"> <h3 class=\"section-header\">Voyage au S\\xc3\\xa9n\\xc3\\xa9gal en ao\\xc3\\xbbt - FAQ</h3> <div class=\"section-content\"> <div class=\"question-wrap temp-question\" itemscope itemprop=\"mainEntity\" itemtype=\"https://schema.org/Question\"> <div class=\"question\" itemprop=\"name\">Quelle est la temp\\xc3\\xa9rature moyenne au S\\xc3\\xa9n\\xc3\\xa9gal en ao\\xc3\\xbbt ?</div> <div class=\"answer\" itemscope itemprop=\"acceptedAnswer\" itemtype=\"https://schema.org/Answer\"><span itemprop=\"text\">La temp\\xc3\\xa9rature moyenne au S\\xc3\\xa9n\\xc3\\xa9gal en ao\\xc3\\xbbt est de <span class=\"month_max\" data-max=\"29\">29</span>\\xc2\\xb0/<span class=\"month_min\" data-min=\"26\">26</span>\\xc2\\xb0.</span></div> </div> <div class=\"question-wrap rain-question\" itemscope itemprop=\"mainEntity\" itemtype=\"https://schema.org/Question\"> <div class=\"question\" itemprop=\"name\">Quelles sont les probabilit\\xc3\\xa9s de pr\\xc3\\xa9cipitations au S\\xc3\\xa9n\\xc3\\xa9gal en ao\\xc3\\xbbt ?</div> <div class=\"answer\" itemscope itemprop=\"acceptedAnswer\" itemtype=\"https://schema.org/Answer\"><span itemprop=\"text\">En moyenne, il y a 7 jours de pluie au S\\xc3\\xa9n\\xc3\\xa9gal en ao\\xc3\\xbbt.</span></div> </div> <div class=\"question-wrap pack-question\" itemscope itemprop=\"mainEntity\" itemtype=\"https://schema.org/Question\"> <div class=\"question\" itemprop=\"name\">Concernant la m\\xc3\\xa9t\\xc3\\xa9o, est-ce une bonne id\\xc3\\xa9e de visiter le S\\xc3\\xa9n\\xc3\\xa9gal en ao\\xc3\\xbbt ?</div> <div class=\"answer\" itemscope itemprop=\"acceptedAnswer\" itemtype=\"https://schema.org/Answer\"><span itemprop=\"text\">La m\\xc3\\xa9t\\xc3\\xa9o au S\\xc3\\xa9n\\xc3\\xa9gal en ao\\xc3\\xbbt est ok.</span></div> </div> <div class=\"question-wrap snow-question\" itemscope itemprop=\"mainEntity\" itemtype=\"https://schema.org/Question\"> <div class=\"question\" itemprop=\"name\">Peut-il neiger au S\\xc3\\xa9n\\xc3\\xa9gal en ao\\xc3\\xbbt ?</div> <div class=\"answer\" itemscope itemprop=\"acceptedAnswer\" itemtype=\"https://schema.org/Answer\"><span itemprop=\"text\">Il neige environ 0 jour au S\\xc3\\xa9n\\xc3\\xa9gal en ao\\xc3\\xbbt.</span></div> </div> </div> </div></div> <div class=\"section-wrap anchor\" id=\"all-cities\"> <div class=\"section-header\">Les meilleures villes de S\\xc3\\xa9n\\xc3\\xa9gal</div> <div class=\"section-sub-header\"><p>S\\xc3\\xa9lectionnez une ville pour obtenir des pr\\xc3\\xa9visions m\\xc3\\xa9t\\xc3\\xa9orologiques plus pr\\xc3\\xa9cises</p></div> <div class=\"cities_list section-content\"> <a class=\"city-link general_button\" data-city=\"Dakar\" data-country=\"Senegal\" data-type=\"top\" href=\"https://www.meteoart.com/africa/senegal/dakar?page=month&month=August\" onClick=\"gtag(\\'event\\', \\'Select City\\', {\\'event_category\\' :\\'Select City\\', \\'event_action\\' :\\'Senegal\\',\\'event_label\\' : \\'Dakar\\'})\">Dakar</a> <a class=\"city-link general_button\" data-city=\"Nianing\" data-country=\"Senegal\" data-type=\"top\" href=\"https://www.meteoart.com/africa/senegal/thies/nianing?page=month&month=August\" onClick=\"gtag(\\'event\\', \\'Select City\\', {\\'event_category\\' :\\'Select City\\', \\'event_action\\' :\\'Senegal\\',\\'event_label\\' : \\'Nianing\\'})\">Nianing</a> <div class=\"clear\"></div> </div> <a href=\"https://www.meteoart.com/africa/senegal#all-cities\" class=\"link-button more-locations-link\" onClick=\"gtag(\\'event\\', \\'more cities click\\', {\\'event_category\\' : \\'bulk more cities click\\', \\'event_action\\' : \\'Senegal\\'})\">Voir d\\'autres lieux<span class=\"link-arrow\"></span></a> </div> <div class=\"section-wrap other-pages-section\"> <div class=\"section-header\">M\\xc3\\xa9t\\xc3\\xa9o au S\\xc3\\xa9n\\xc3\\xa9gal</div> <div class=\"mobile_menu_wrap bottom-menu section-content\"> <a href=\"https://www.meteoart.com/africa/senegal?page=14\" onClick=\"gtag(\\'event\\',\\'other pages\\' , {\\'event_category\\' : \\'other pages\\',\\'event_action\\' : \\'click on other-14\\', \\'event_label\\' : \\'S\\xc3\\xa9n\\xc3\\xa9gal\\'})\" id=\"other-14\"> M\\xc3\\xa9t\\xc3\\xa9o au S\\xc3\\xa9n\\xc3\\xa9gal sur 14 jours<span class=\"right-arrow\"></span> </a><a href=\"https://www.meteoart.com/africa/senegal?page=long-range\" onClick=\"gtag(\\'event\\',\\'other pages\\' , {\\'event_category\\' : \\'other pages\\',\\'event_action\\' : \\'click on other-long\\', \\'event_label\\' : \\'S\\xc3\\xa9n\\xc3\\xa9gal\\'})\" id=\"other-long\"> S\\xc3\\xa9n\\xc3\\xa9gal long terme<span class=\"right-arrow\"></span> </a><a href=\"https://www.meteoart.com/africa/senegal?page=month&month=September\" onClick=\"gtag(\\'event\\',\\'other pages\\' , {\\'event_category\\' : \\'other pages\\',\\'event_action\\' : \\'click on other-next-month\\', \\'event_label\\' : \\'S\\xc3\\xa9n\\xc3\\xa9gal\\'})\" id=\"other-next-month\"> M\\xc3\\xa9t\\xc3\\xa9o au S\\xc3\\xa9n\\xc3\\xa9gal en septembre<span class=\"right-arrow\"></span> </a><a href=\"https://www.meteoart.com/africa/senegal?page=tomorrow\" onClick=\"gtag(\\'event\\',\\'other pages\\' , {\\'event_category\\' : \\'other pages\\',\\'event_action\\' : \\'click on other-tomorrow\\', \\'event_label\\' : \\'S\\xc3\\xa9n\\xc3\\xa9gal\\'})\" id=\"other-tomorrow\"> M\\xc3\\xa9t\\xc3\\xa9o au S\\xc3\\xa9n\\xc3\\xa9gal demain<span class=\"right-arrow\"></span> </a><a href=\"https://www.meteoart.com/africa/senegal?page=hotels\" onClick=\"gtag(\\'event\\',\\'other pages\\' , {\\'event_category\\' : \\'other pages\\',\\'event_action\\' : \\'click on other-hotels\\', \\'event_label\\' : \\'S\\xc3\\xa9n\\xc3\\xa9gal\\'})\" id=\"other-hotels\"> H\\xc3\\xb4tels au S\\xc3\\xa9n\\xc3\\xa9gal<span class=\"right-arrow\"></span> </a> </div></div></div><div class=\"scrolltop\"> <div class=\"scroll-button\"> </div> </div><footer class=\"big_footer_wrapper\"> <div class=\"big-footer-inner\"> <div class=\"flex-wrap footer-flex-wrap\"> <div class=\"footer-logo\"> <img width=\"160\" height=\"23\" alt=\"MeteoArt.com\" title=\"MeteoArt.com\" class=\"lazy \" data-src=\"https://www.meteoart.com/images/meteoart-white.svg\" /> <div class=\"footer-data\">Les donn\\xc3\\xa9es m\\xc3\\xa9t\\xc3\\xa9orologiques de S\\xc3\\xa9n\\xc3\\xa9gal sont issues des autorit\\xc3\\xa9s m\\xc3\\xa9t\\xc3\\xa9orologiques officielles du monde entier, garantissant leur pr\\xc3\\xa9cision et leur fiabilit\\xc3\\xa9.</div> </div> <div class=\"footer-lists\"> <div class=\"footer-list\"> <div class=\"footer_list_header\">Villes populaires</div> <div class=\"footer_small_list_wrap\"> <div class=\"footer_small_list\"> <a href=\"https://www.meteoart.com/europe/france/ile-de-france/paris\" class=\"footer_item\"> \\xe2\\x80\\xba Paris </a> <a href=\"https://www.meteoart.com/north-america/canada/montreal\" class=\"footer_item\"> \\xe2\\x80\\xba Montr\\xc3\\xa9al </a> <a href=\"https://www.meteoart.com/europe/spain/catalonia/barcelona\" class=\"footer_item\"> \\xe2\\x80\\xba Barcelona </a> </div> <div class=\"footer_small_list\"> <a href=\"https://www.meteoart.com/europe/spain/majorca\" class=\"footer_item\"> \\xe2\\x80\\xba Mallorca </a> <a href=\"https://www.meteoart.com/europe/switzerland/valais/zermatt\" class=\"footer_item\"> \\xe2\\x80\\xba Zermatt </a> </div> </div> </div> <div class=\"footer-list\"> <div class=\"footer_list_header\">MeteoArt.com</div> <a href=\"https://www.meteoart.com/terms\" class=\"footer_item\"> \\xe2\\x80\\xba Conditions d\\xe2\\x80\\x99utilisation </a> <a href=\"https://www.meteoart.com/privacy\" class=\"footer_item\"> \\xe2\\x80\\xba Politique de confidentialit\\xc3\\xa9 </a> <a href=\"https://www.meteoart.com/contact-us\" class=\"footer_item\"> \\xe2\\x80\\xba Contact </a> </div> </div> </div> <div class=\"footer-line\"></div> <div>Copyright \\xc2\\xa9 2024, <b>MeteoArt.com</b></div> </div></footer><script> var authorizationToken = \"251478a5eeb2aad8e302c27ccf3999763a1f9053\"; var placeForRest = \"Dakar,Senegal\"; var globalCityNameForRest = \"Dakar\"; var globalCountryDB = \"Senegal\"; var globalCityName = \"S\\xc3\\xa9n\\xc3\\xa9gal\"; var globalLevel = \"country\"; var descriptionMap = descriptionMap = [];descriptionMap[1113] = \\'Ensoleill\\xc3\\xa9\\';descriptionMap[113] = \\'Clair\\';descriptionMap[116] = \\'Partiellement nuageux\\';descriptionMap[119] = \\'Nuageux\\';descriptionMap[122] = \\'Couvert\\';descriptionMap[143] = \\'Brume\\';descriptionMap[176] = \\'Risques de pluie \\xc3\\xa9parse\\';descriptionMap[179] = \\'Risques de neige \\xc3\\xa9parse\\';descriptionMap[182] = \\'Risques de gr\\xc3\\xa9sil \\xc3\\xa9pars\\';descriptionMap[185] = \\'Risques de bruine vergla\\xc3\\xa7ante \\xc3\\xa9parse\\';descriptionMap[200] = \\'Possibilit\\xc3\\xa9 de tonnerre\\';descriptionMap[227] = \\'Rafales de neige\\';descriptionMap[230] = \\'Blizzard\\';descriptionMap[248] = \\'Brouillard\\';descriptionMap[260] = \\'Brouillard givrant\\';descriptionMap[263] = \\'Bruine l\\xc3\\xa9g\\xc3\\xa8re \\xc3\\xa9parse\\';descriptionMap[266] = \\'Bruine l\\xc3\\xa9g\\xc3\\xa8re\\';descriptionMap[281] = \\'Bruine vergla\\xc3\\xa7ante\\';descriptionMap[284] = \\'Forte bruine vergla\\xc3\\xa7ante\\';descriptionMap[293] = \\'Pluie l\\xc3\\xa9g\\xc3\\xa8re \\xc3\\xa9parse\\';descriptionMap[296] = \\'Pluie l\\xc3\\xa9g\\xc3\\xa8re\\';descriptionMap[299] = \\'Pluie mod\\xc3\\xa9r\\xc3\\xa9e par moments\\';descriptionMap[302] = \\'Pluie mod\\xc3\\xa9r\\xc3\\xa9e\\';descriptionMap[305] = \\'Pluie forte par moments\\';descriptionMap[308] = \\'Pluie forte\\';descriptionMap[311] = \\'Pluie vergla\\xc3\\xa7ante l\\xc3\\xa9g\\xc3\\xa8re\\';descriptionMap[314] = \\'Pluie vergla\\xc3\\xa7ante mod\\xc3\\xa9r\\xc3\\xa9e \\xc3\\xa0 forte\\';descriptionMap[317] = \\'L\\xc3\\xa9ger gr\\xc3\\xa9sil\\';descriptionMap[320] = \\'Neige mod\\xc3\\xa9r\\xc3\\xa9e ou lourde\\';descriptionMap[323] = \\'L\\xc3\\xa9g\\xc3\\xa8re chute de neige\\';descriptionMap[326] = \\'Neige l\\xc3\\xa9g\\xc3\\xa8re\\';descriptionMap[329] = \\'Neige mod\\xc3\\xa9r\\xc3\\xa9e \\xc3\\xa9parse\\';descriptionMap[332] = \\'Neige mod\\xc3\\xa9r\\xc3\\xa9e\\';descriptionMap[335] = \\'Neige forte \\xc3\\xa9parse\\';descriptionMap[338] = \\'Neige forte\\';descriptionMap[350] = \\'Cristaux de glace\\';descriptionMap[353] = \\'Averse de pluie l\\xc3\\xa9g\\xc3\\xa8re\\';descriptionMap[356] = \\'Averse de pluie mod\\xc3\\xa9r\\xc3\\xa9e\\';descriptionMap[359] = \\'Averse de pluie torrentielle\\';descriptionMap[362] = \\'L\\xc3\\xa9g\\xc3\\xa8res averses de gr\\xc3\\xa9sil\\';descriptionMap[365] = \\'Averses de gr\\xc3\\xa9sil mod\\xc3\\xa9r\\xc3\\xa9es \\xc3\\xa0 fortes\\';descriptionMap[368] = \\'L\\xc3\\xa9g\\xc3\\xa8res averses de neige\\';descriptionMap[371] = \\'Averses de neige mod\\xc3\\xa9r\\xc3\\xa9es \\xc3\\xa0 fortes\\';descriptionMap[374] = \\'L\\xc3\\xa9g\\xc3\\xa8res chutes de gr\\xc3\\xaalons\\';descriptionMap[377] = \\'Averses mod\\xc3\\xa9r\\xc3\\xa9es ou abondantes de gr\\xc3\\xa9sil\\';descriptionMap[386] = \\'Tonnerre\\';descriptionMap[389] = \\'Pluie l\\xc3\\xa9g\\xc3\\xa8re avec tonnerre par endroit\\';descriptionMap[392] = \\'L\\xc3\\xa9g\\xc3\\xa8re neige \\xc3\\xa9parse avec tonnerre\\';descriptionMap[395] = \\'Neige \\xc3\\xa9parse mod\\xc3\\xa9r\\xc3\\xa9e \\xc3\\xa0 forte avec tonnerre par endroit\\';; var domain = \"https://www.meteoart.com\"; var defaultTempUnit = \"C\"; var res_url = \"https://res.meteoart.com\"; var place = \"S\\xc3\\xa9n\\xc3\\xa9gal\"; var device = \"Desktop\"; var pageType = \"month\"; var country = \"S\\xc3\\xa9n\\xc3\\xa9gal\"; var globalLanguage = \"french\"; var isMap = false; var months_data_for_js_graph = [28,27,27,27,27,28,29,29,30,32,31,30]; var months_rain_data_for_js_graph = [0,0,1,2,5,21,57,177,145,31,3,1]; var monthForURL = [\\'January\\',\\'February\\',\\'March\\',\\'April\\',\\'May\\',\\'June\\',\\'July\\',\\'August\\',\\'September\\',\\'October\\',\\'November\\',\\'December\\']; var month_index = \"8\"; var long_month_index = \"\"; var conversion_click_id = \"AW-977441059/Y4LXCP3rkrEBEKOiitID\"; var shortMonthNames = [\\'janv.\\',\\'f\\xc3\\xa9vr.\\',\\'mars\\',\\'avril\\',\\'mai\\',\\'juin\\',\\'juil.\\',\\'ao\\xc3\\xbbt\\',\\'sept.\\',\\'oct.\\',\\'nov.\\',\\'d\\xc3\\xa9c.\\']; var canonical_url = \\'https://www.meteoart.com/africa/senegal\\'; var weekShortDays = {\"Sunday\":\"dimanche\",\"Monday\":\"lundi\",\"Tuesday\":\"mardi\",\"Wednesday\":\"mercredi\",\"Thursday\":\"jeudi\",\"Friday\":\"vendredi\",\"Saturday\":\"samedi\"}; var latlong = \\'\\'; var langIso = \"fr-FR\"; var terms = {}; var decimal_separator = \",\"; terms.rainfall = \"Moy. pr\\xc3\\xa9cipitations\"; var labels = []; labels[\\'rain\\'] = \"Risques de pluie\"; labels[\\'humidity\\'] = \"Humidit\\xc3\\xa9\"; labels[\\'wind\\'] = \"Vent\"; wind_type = \"Km/h\" || \"Km/h\"; to_show_rain_map = \"\"; </script><script> if (\\'serviceWorker\\' in navigator) { navigator.serviceWorker.register(\\'/sw.js\\'); }</script><link rel=\"preload\" as=\"font\" type=\"font/woff2\" href=\"https://www.meteoart.com/style/fonts/4iCs6KVjbNBYlgoKfw72.woff2\" crossorigin> <link rel=\"preload\" as=\"font\" type=\"font/woff2\" href=\"https://www.meteoart.com/style/fonts/4iCv6KVjbNBYlgoCjC3jsGyN.woff2\" crossorigin> <link rel=\"preload\" as=\"font\" type=\"font/woff2\" href=\"https://www.meteoart.com/style/fonts/4iCv6KVjbNBYlgoCxCvjsGyN.woff2\" crossorigin><script src=\"https://res.meteoart.com/js/jquery-3.5.1.min.js\"></script><script src=\"https://res.meteoart.com/js/jquery-ui.test2.min.js\"></script><script src=\"https://res.meteoart.com/js/common15.min.js\"></script><script src=\"https://res.meteoart.com/js/dropdown7.min.js\" async=\"async\"></script><script src=\"https://res.meteoart.com/weather/js/weather4.min.js\"></script><script src=\"https://res.meteoart.com/js/new-stuff.min.js\" async=\"async\"></script><script src=\"https://res.meteoart.com/weather/js/month6.min.js\" defer></script><script src=\"https://res.meteoart.com/weather/js/fourteen6.min.js\" defer></script></body></html>'\n"
     ]
    }
   ],
   "source": [
    "url1=\"https://www.anacim.sn/\"\n",
    "url=\"https://www.meteoart.com/africa/senegal?page=month&month=August\"\n",
    "page=requests.get(url)\n",
    "print(page.content)"
   ]
  },
  {
   "cell_type": "markdown",
   "id": "adb16d83-575a-491f-85af-4f29c481d88a",
   "metadata": {},
   "source": [
    "Aprés importation de la bibliothèque BeautifulSoup , on utilise un parseur .\n",
    "Le rôle d'un parseur en Python est de lire et d'analyser des données provenant de différentes sources, comme des fichiers, des chaînes de caractères ou des flux de données, afin de les transformer en une structure de données que le programme peut manipuler facilement.\n",
    "On crée notre objet soup avec Beautiful par un parseur HTML afin de faciliter notre navigation dans la page ."
   ]
  },
  {
   "cell_type": "code",
   "execution_count": 3,
   "id": "9509b280-2d82-4f36-98e9-750497b3afd8",
   "metadata": {},
   "outputs": [],
   "source": [
    "soup = BeautifulSoup(page.content, 'html.parser')"
   ]
  },
  {
   "cell_type": "code",
   "execution_count": 4,
   "id": "f3dded51-01cc-4b1a-a0f8-59229ab97fa3",
   "metadata": {},
   "outputs": [
    {
     "data": {
      "text/plain": [
       "'Météo Sénégal en août 2024 | 14 Jours | MeteoArt.com'"
      ]
     },
     "execution_count": 4,
     "metadata": {},
     "output_type": "execute_result"
    }
   ],
   "source": [
    "#Titre de ma page\n",
    "titre=soup.title.string\n",
    "titre"
   ]
  },
  {
   "cell_type": "markdown",
   "id": "90c62d86-a659-4605-9f1b-644e484ac1d5",
   "metadata": {},
   "source": [
    "Parser signifie , parcourir le contenu d'un texte ou d'un fichier en l'analysant pour vérifier sa syntaxe ou en en extraire des données .\n",
    "\n",
    "Ici je veux réccupérer tous les jours à venir que veuille renseigner .\n",
    "\n",
    "Aprés je mets les types récupérés dans un tableau . \n",
    "\n",
    "Pour faciliter aprés la mise du tout dans un fichier csv ."
   ]
  },
  {
   "cell_type": "code",
   "execution_count": 5,
   "id": "49027640-e508-46f5-97ad-579cac9644a6",
   "metadata": {},
   "outputs": [
    {
     "name": "stdout",
     "output_type": "stream",
     "text": [
      "mardi\n",
      "mercredi\n",
      "jeudi\n",
      "vendredi\n",
      "samedi\n",
      "dimanche\n",
      "lundi\n",
      "mardi\n",
      "mercredi\n",
      "jeudi\n",
      "vendredi\n",
      "samedi\n",
      "dimanche\n",
      "lundi\n"
     ]
    }
   ],
   "source": [
    "jours=soup.find_all(\"div\" , class_=\"weather_day_date\")\n",
    "jour=[]\n",
    "for val in jours:\n",
    "    jour.append(val)\n",
    "    print(val.text)"
   ]
  },
  {
   "cell_type": "markdown",
   "id": "6f37f388-243b-432e-b56c-95caaeb9fff8",
   "metadata": {},
   "source": [
    "Je recupère tous jours du mois  .\n",
    "\n",
    "Aprés on met le tout dans un tableau nommé moi .\n",
    "\n",
    "Ce qui faciliterai le travail ."
   ]
  },
  {
   "cell_type": "code",
   "execution_count": 6,
   "id": "77334260-87dd-4dfb-b42b-54d1cd3ce6a6",
   "metadata": {},
   "outputs": [
    {
     "name": "stdout",
     "output_type": "stream",
     "text": [
      "6 août\n",
      "7 août\n",
      "8 août\n",
      "9 août\n",
      "10 août\n",
      "11 août\n",
      "12 août\n",
      "13 août\n",
      "14 août\n",
      "15 août\n",
      "16 août\n",
      "17 août\n",
      "18 août\n",
      "19 août\n"
     ]
    }
   ],
   "source": [
    "mois=soup.find_all(\"div\" , class_=\"weather_date_month\")\n",
    "moi=[]\n",
    "for val in mois:\n",
    "    moi.append(val)\n",
    "    print(val.text)"
   ]
  },
  {
   "cell_type": "markdown",
   "id": "35451edf-94c7-4a8c-b4d7-37b93bbc79e6",
   "metadata": {},
   "source": [
    "Je récupère les températures liées à chacune des journées précédemment recencées .\n",
    "\n",
    "Aprés on met le contenu dans un tableau nommé degré . "
   ]
  },
  {
   "cell_type": "code",
   "execution_count": 7,
   "id": "451baf58-c626-430b-926e-bad90bc44ab4",
   "metadata": {},
   "outputs": [
    {
     "name": "stdout",
     "output_type": "stream",
     "text": [
      "28°\n",
      "27°\n",
      "28°\n",
      "27°\n",
      "27°\n",
      "27°\n",
      "28°\n",
      "28°\n",
      "27°\n",
      "28°\n",
      "26°\n",
      "27°\n",
      "28°\n",
      "28°\n"
     ]
    }
   ],
   "source": [
    "degres=soup.find_all(class_=\"fourteen-max\")\n",
    "degre=[]\n",
    "for val in degres:\n",
    "    degre.append(val)\n",
    "    print(val.text)"
   ]
  },
  {
   "cell_type": "markdown",
   "id": "a4adc7da-634c-4fba-9381-7c1a50e682d5",
   "metadata": {},
   "source": [
    "Je récupère tous les tous les millimètres de précipitations liés à chaque journée . \n",
    "\n",
    "Aprés on met le contenu dans un tableau nommé mm . \n",
    "\n",
    "Ce qui facilitera le travail pour la mise en fichier csv ."
   ]
  },
  {
   "cell_type": "code",
   "execution_count": 8,
   "id": "ae1e59c3-362d-41f9-b982-293643ddf3a0",
   "metadata": {},
   "outputs": [
    {
     "name": "stdout",
     "output_type": "stream",
     "text": [
      "1,3 mm\n",
      "3,8 mm\n",
      "0,8 mm\n",
      "0 mm\n",
      "1,5 mm\n",
      "0 mm\n",
      "0,8 mm\n",
      "4 mm\n",
      "4,8 mm\n",
      "1,8 mm\n",
      "81,3 mm\n",
      "13 mm\n",
      "2 mm\n",
      "0 mm\n"
     ]
    }
   ],
   "source": [
    "mms=soup.find_all(class_=\"weather_day_mm\")\n",
    "mm=[]\n",
    "for val in mms:\n",
    "    mm.append(val)\n",
    "    print(val.text)"
   ]
  },
  {
   "cell_type": "code",
   "execution_count": 9,
   "id": "ccdda736-3c63-4afb-adde-ce6fffe66e9e",
   "metadata": {},
   "outputs": [
    {
     "data": {
      "text/plain": [
       "'\\ntextes=soup.find_all( class_=\"weather_day_img\")\\ninfo=[]\\nfor val in textes:\\n    info.append(val)\\n    print(val)\\n'"
      ]
     },
     "execution_count": 9,
     "metadata": {},
     "output_type": "execute_result"
    }
   ],
   "source": [
    "\"\"\"\n",
    "textes=soup.find_all( class_=\"weather_day_img\")\n",
    "info=[]\n",
    "for val in textes:\n",
    "    info.append(val)\n",
    "    print(val)\n",
    "\"\"\" "
   ]
  },
  {
   "cell_type": "markdown",
   "id": "f932ead7-73f5-44fa-a18f-d81d6cfd45c6",
   "metadata": {},
   "source": [
    "Ici , on crée un tableau qui s'appelle mon_tableau où il y figurera tous les contenus de nos différents tableaux recencés précédemment . C'est à dire , on crée un tableau qui contiendra les jours , les  mois , les températures et les millimètres de précipitations ."
   ]
  },
  {
   "cell_type": "code",
   "execution_count": 10,
   "id": "3c648443-c1fe-4e83-98ee-e65985e76478",
   "metadata": {},
   "outputs": [],
   "source": [
    "mon_tableau=[jour,moi,degre,mm]"
   ]
  },
  {
   "cell_type": "code",
   "execution_count": null,
   "id": "bdd1f8b9-f91b-4598-bc0c-297839c9e3b5",
   "metadata": {},
   "outputs": [],
   "source": []
  },
  {
   "cell_type": "code",
   "execution_count": null,
   "id": "96441ad8-a0ca-487b-879b-863cc15ce4ab",
   "metadata": {},
   "outputs": [],
   "source": []
  },
  {
   "cell_type": "code",
   "execution_count": 11,
   "id": "8480cfcb-6712-4afb-9478-0d8b030d3cd9",
   "metadata": {},
   "outputs": [],
   "source": [
    "#file = open(\"immobilier.txt\", \"w\" , encoding=\"utf-8\")\n",
    "#immo=[]\n",
    "#for maison in maisons :\n",
    "   # for nb_de_ch in nb_de_chs:\n",
    "       # for location in locations:\n",
    "           # for price in prices :\n",
    "                #for date in dates:\n",
    "                  # immo=[maison,nb_de_ch,location,price,date]\n",
    "                #file.write(str(immo))\n",
    "#file.close()\n",
    "\n",
    "#with open(\"immobilier.txt\"  ) as f:\n",
    "   # for line in f:\n",
    "        #do something with line\n",
    "#    print(line)\n",
    "\n",
    "  "
   ]
  },
  {
   "cell_type": "markdown",
   "id": "244f0cb7-0170-41a5-ac88-2175727c2ac9",
   "metadata": {},
   "source": [
    "Ici , on crée un tableau qui s'appelle headers où il y figurera tous les contenus de nos différents tableaux recencés précédemment . C'est à dire , on crée un tableau qui contiendra les jours , les  mois , les températures et les millimètres de précipitations .\n",
    "Aprés , grace à la bibliothèque csv , on crée un fichier csv .\n",
    "\n",
    "Aprés on crée un objet writer nous permettant d'écrire dans notre fichier nouvellement créé .\n",
    "\n",
    "On y met les différéntes colonnes dans notre tablau headers . \n",
    "\n",
    "Ensuite on remplit ligne par ligne , les jours , les mois , les températures et les millimètres de précipitation .\n",
    "\n",
    "En fin on affiche le résultat de chaque colonne ."
   ]
  },
  {
   "cell_type": "code",
   "execution_count": 12,
   "id": "07db1887-3b0a-418d-b440-02d573752bf4",
   "metadata": {},
   "outputs": [],
   "source": [
    "headers = [jours,mois,degres,mms]\n",
    "with open('meteo.csv', 'w', encoding=\"utf-8\" , newline='') as file:\n",
    "#with open(f'{titre}.meteo.csv', 'w', encoding=\"utf-8\" , newline='' ) as file:\n",
    "    writer = csv.writer(file, delimiter=',')\n",
    "    writer.writerow([\"Jours\", \"Mois\",\"Degrés\",\"Nbre_mm\"])\n",
    "    #for item in headers:\n",
    "       #writer.writerows(item)\n",
    "    for i in range(12):\n",
    "        #Create a new row with the title and description at that point in the loop\n",
    "        row = [jours[i].text, mois[i].text,degres[i].text,mms[i].text]\n",
    "        writer.writerow(row)"
   ]
  },
  {
   "cell_type": "code",
   "execution_count": null,
   "id": "ad7f3287-523e-417e-ac62-228b6ccfed35",
   "metadata": {},
   "outputs": [],
   "source": []
  },
  {
   "cell_type": "code",
   "execution_count": null,
   "id": "4c142e59-5065-49c2-9cf0-ced5aa7ebff2",
   "metadata": {},
   "outputs": [],
   "source": []
  },
  {
   "cell_type": "markdown",
   "id": "58dcc06a-164f-4f17-b028-63752dcdfd46",
   "metadata": {},
   "source": [
    "Charger les données depuis le fichier CSV .\n",
    "\n",
    "\n",
    "Utilisez Pandas pour charger les données à partir du fichier CSV dans un DataFrame, \n",
    "qui est une structure de données tabulaire . "
   ]
  },
  {
   "cell_type": "code",
   "execution_count": 13,
   "id": "2d430566-538c-4869-8fd0-f49d8a33d6be",
   "metadata": {},
   "outputs": [],
   "source": [
    "#Utilisation de panda pour charger les données depuis le fichier csv\n",
    "df = pd.read_csv('meteo.csv')\n",
    "# Convertir la colonne '' de type string en int\n",
    "#df['prices'] = df['prices'].astype(int)"
   ]
  },
  {
   "cell_type": "markdown",
   "id": "7c0c2671-7a70-45c3-8328-acb61d963301",
   "metadata": {},
   "source": [
    "Explorer les données\n",
    "\n",
    "\n",
    "Afficher les premières lignes et informations générales sur le DataFrame :"
   ]
  },
  {
   "cell_type": "code",
   "execution_count": 14,
   "id": "ed9a8f73-d499-411d-809e-300b410e5727",
   "metadata": {},
   "outputs": [
    {
     "name": "stdout",
     "output_type": "stream",
     "text": [
      "      Jours     Mois Degrés Nbre_mm\n",
      "0     mardi   6 août    28°  1,3 mm\n",
      "1  mercredi   7 août    27°  3,8 mm\n",
      "2     jeudi   8 août    28°  0,8 mm\n",
      "3  vendredi   9 août    27°    0 mm\n",
      "4    samedi  10 août    27°  1,5 mm\n",
      "<class 'pandas.core.frame.DataFrame'>\n",
      "RangeIndex: 12 entries, 0 to 11\n",
      "Data columns (total 4 columns):\n",
      " #   Column   Non-Null Count  Dtype \n",
      "---  ------   --------------  ----- \n",
      " 0   Jours    12 non-null     object\n",
      " 1   Mois     12 non-null     object\n",
      " 2   Degrés   12 non-null     object\n",
      " 3   Nbre_mm  12 non-null     object\n",
      "dtypes: object(4)\n",
      "memory usage: 516.0+ bytes\n",
      "None\n",
      "        Jours    Mois Degrés Nbre_mm\n",
      "count      12      12     12      12\n",
      "unique      7      12      3      10\n",
      "top     mardi  6 août    27°  0,8 mm\n",
      "freq        2       1      6       2\n"
     ]
    }
   ],
   "source": [
    "# Afficher les premières lignes du DataFrame\n",
    "print(df.head())\n",
    "\n",
    "# Obtenir des informations sur le DataFrame\n",
    "print(df.info())\n",
    "\n",
    "# Statistiques descriptives sur les données numériques\n",
    "print(df.describe())"
   ]
  },
  {
   "cell_type": "code",
   "execution_count": 15,
   "id": "6675caa5-fe6e-44aa-9818-0a1d8fb61dfb",
   "metadata": {},
   "outputs": [
    {
     "name": "stdout",
     "output_type": "stream",
     "text": [
      "Jours      0\n",
      "Mois       0\n",
      "Degrés     0\n",
      "Nbre_mm    0\n",
      "dtype: int64\n"
     ]
    }
   ],
   "source": [
    "# Vérifier les valeurs manquantes\n",
    "print(df.isnull().sum())\n",
    "\n",
    "#Remplacer les valeurs manquantes par la moyenne (par exemple)\n",
    "#df['colonnes'].fillna(df['prcolonnes'].mean(), inplace=True)\n"
   ]
  },
  {
   "cell_type": "code",
   "execution_count": 16,
   "id": "780079c4-a6ca-4e12-9734-1446005040b8",
   "metadata": {},
   "outputs": [],
   "source": [
    "# Supprimer les lignes en double\n",
    "df.drop_duplicates(inplace=True)"
   ]
  },
  {
   "cell_type": "markdown",
   "id": "b9f844f9-c201-4539-8a03-c7301e33e1a1",
   "metadata": {},
   "source": [
    "Visualiser les données\n",
    "\n",
    "\n",
    "Utilisons Matplotlib ou Seaborn pour créer des visualisations pour mieux comprendre vos données :\n",
    "\n",
    "Dans le diagramme suivant , on a essayé de tracer les degrés celcius des jours en fonction des millimètres de précipitation .\n",
    "\n",
    "Afin de voir si la température impactera sur la possibilité de pluie .\n",
    "\n",
    "La tempérarture n'a aucun effet sur les millimètres de précipitations . C'est à dire ,\n",
    "\n",
    "on peut avoir , pour une journée donnée , une forte température mais aussi de grands millimètres de précipitations ."
   ]
  },
  {
   "cell_type": "code",
   "execution_count": 17,
   "id": "9cd37869",
   "metadata": {},
   "outputs": [
    {
     "data": {
      "image/png": "[encoded data removed]",
      "text/plain": [
       "<Figure size 640x480 with 1 Axes>"
      ]
     },
     "metadata": {},
     "output_type": "display_data"
    }
   ],
   "source": [
    "#Diagramme de la température par rapport aux millimètres de précipitation \n",
    "plt.scatter(df['Nbre_mm'], df['Degrés'])\n",
    "plt.xlabel('mm')\n",
    "plt.ylabel('degre')\n",
    "plt.show()"
   ]
  },
  {
   "cell_type": "code",
   "execution_count": null,
   "id": "b3d1f22b-feb1-4727-90f1-5473d71e82a4",
   "metadata": {},
   "outputs": [],
   "source": []
  },
  {
   "cell_type": "markdown",
   "id": "27e7eb9b",
   "metadata": {},
   "source": [
    "Visaualisation avec Matplotlib des fréuences par rapport aux températures .\n",
    "\n",
    "Dans ce diagramme , on a essayé de tracer l'histogramme des fréquences par rapport aux températures des jours à venir . \n",
    "\n",
    "Ce qui me permettra de voir les variations de la température . \n",
    "\n",
    "On pourra aussi voir on les températures maximale et minimale de la quinzaine à venir ."
   ]
  },
  {
   "cell_type": "code",
   "execution_count": 18,
   "id": "8b32f08e",
   "metadata": {},
   "outputs": [
    {
     "data": {
      "image/png": "[encoded data removed]",
      "text/plain": [
       "<Figure size 1000x600 with 1 Axes>"
      ]
     },
     "metadata": {},
     "output_type": "display_data"
    }
   ],
   "source": [
    "# Exemple de visualisation avec Matplotlib des fréquences parr rapport aux températures \n",
    "plt.figure(figsize=(10, 6))\n",
    "plt.hist(df['Degrés'], bins=30, color='skyblue', edgecolor='black')\n",
    "plt.title('Distribution des degrés')\n",
    "plt.xlabel('Degrés')\n",
    "plt.ylabel('Frequence')\n",
    "plt.show()"
   ]
  },
  {
   "cell_type": "code",
   "execution_count": null,
   "id": "c162db9d",
   "metadata": {},
   "outputs": [],
   "source": []
  },
  {
   "cell_type": "markdown",
   "id": "86cdd70a",
   "metadata": {},
   "source": [
    "Visualisation de la température des jours à venir avec Matplotlib . \n",
    "\n",
    "Ce diagramme nous permettra de de visualiser les différentes températures des jurs à venir .\n"
   ]
  },
  {
   "cell_type": "code",
   "execution_count": 19,
   "id": "6c3c33fa-0cab-4d51-b0af-2521d18caf0b",
   "metadata": {},
   "outputs": [
    {
     "data": {
      "image/png": "[encoded data removed]",
      "text/plain": [
       "<Figure size 640x480 with 1 Axes>"
      ]
     },
     "metadata": {},
     "output_type": "display_data"
    }
   ],
   "source": [
    "#Température des jours à venir\n",
    "plt.scatter(df['Jours'], df['Degrés'])\n",
    "plt.xlabel('jour')\n",
    "plt.ylabel('degre')\n",
    "plt.show()"
   ]
  },
  {
   "cell_type": "markdown",
   "id": "824a23f8",
   "metadata": {},
   "source": []
  },
  {
   "cell_type": "markdown",
   "id": "aba522a1-a660-4264-8b53-2114d0299401",
   "metadata": {},
   "source": []
  },
  {
   "cell_type": "markdown",
   "id": "e6ce5ceb-ddee-4b52-b1c6-47cd541e7950",
   "metadata": {},
   "source": [
    "\n",
    "•\t  Conclusion\n",
    "\n",
    "    Objectifs du projet\n",
    "\n",
    "    Les principaux objectifs de ce projet sont les suivants :\n",
    "\n",
    "    • Collecter des données météorologiques depuis le site de la météo\n",
    "\n",
    "    • Analyser les tendances temporelles et les précipitations .\n",
    "\n",
    "    • Prédiction de la possibilité de pluie éparse ou pas .\n",
    "\n",
    "\n",
    " Limitation et défis de l’extraction web\n",
    "\n",
    "    Il existe beaucoup de site qu'il est interdit d'extraire leurs données . Pour voir si l'extraction d'un site web est autorisée ou pas , \n",
    "    il suffit juste de faire précéder robot.txt à l'url concerné , dans la barre de recherche de notre navigateur web .  \n",
    "    L’extraction de données web est un outil puissant et utile, mais elle est spécifique pour chaque site .\n",
    "\n",
    " Durabilité des scripts \n",
    "\n",
    "    Comme vous le savez, internet change et se met à jour constamment. Bien qu’ils soient très utiles pour se tenir au courant, \n",
    "    les scripts de données web qui reposent sur une structure HTML en particulier peuvent vite devenir obsolètes.\n",
    "\n",
    "\n",
    " Perspectives d'amélioration ou d'extension du projet à l'avenir\n",
    "\n",
    "    Le projet reste intéressant surtout quand à l'annonce de la possibilité de pluie mais du changement climatique ."
   ]
  },
  {
   "cell_type": "code",
   "execution_count": null,
   "id": "276b62b2-6614-49a1-9ff5-717558ba0528",
   "metadata": {},
   "outputs": [],
   "source": []
  }
 ],
 "metadata": {
  "kernelspec": {
   "display_name": "Python 3 (ipykernel)",
   "language": "python",
   "name": "python3"
  },
  "language_info": {
   "codemirror_mode": {
    "name": "ipython",
    "version": 3
   },
   "file_extension": ".py",
   "mimetype": "text/x-python",
   "name": "python",
   "nbconvert_exporter": "python",
   "pygments_lexer": "ipython3",
   "version": "3.11.7"
  }
 },
 "nbformat": 4,
 "nbformat_minor": 5
}
